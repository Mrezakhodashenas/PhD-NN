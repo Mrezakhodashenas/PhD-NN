{
  "nbformat": 4,
  "nbformat_minor": 0,
  "metadata": {
    "colab": {
      "provenance": [],
      "authorship_tag": "ABX9TyOnW/RpCgV3CGCtR4/z+ZF8",
      "include_colab_link": true
    },
    "kernelspec": {
      "name": "python3",
      "display_name": "Python 3"
    },
    "language_info": {
      "name": "python"
    },
    "widgets": {
      "application/vnd.jupyter.widget-state+json": {
        "c420dbd79a034475b222aaa871a74d79": {
          "model_module": "@jupyter-widgets/controls",
          "model_name": "VBoxModel",
          "model_module_version": "1.5.0",
          "state": {
            "_dom_classes": [],
            "_model_module": "@jupyter-widgets/controls",
            "_model_module_version": "1.5.0",
            "_model_name": "VBoxModel",
            "_view_count": null,
            "_view_module": "@jupyter-widgets/controls",
            "_view_module_version": "1.5.0",
            "_view_name": "VBoxView",
            "box_style": "",
            "children": [
              "IPY_MODEL_7da9051009e24d2c8e3d34849c6b03f6",
              "IPY_MODEL_a3b5e84d93444190b45272d6f308d77f"
            ],
            "layout": "IPY_MODEL_4ec2b122f1ac4096a2c7aaf7182b7ff1"
          }
        },
        "7da9051009e24d2c8e3d34849c6b03f6": {
          "model_module": "@jupyter-widgets/controls",
          "model_name": "LabelModel",
          "model_module_version": "1.5.0",
          "state": {
            "_dom_classes": [],
            "_model_module": "@jupyter-widgets/controls",
            "_model_module_version": "1.5.0",
            "_model_name": "LabelModel",
            "_view_count": null,
            "_view_module": "@jupyter-widgets/controls",
            "_view_module_version": "1.5.0",
            "_view_name": "LabelView",
            "description": "",
            "description_tooltip": null,
            "layout": "IPY_MODEL_5af0b7e4e02548f2aa455ecd15479100",
            "placeholder": "​",
            "style": "IPY_MODEL_2b344da37e334ec9828386542dea19f5",
            "value": "0.010 MB of 0.010 MB uploaded\r"
          }
        },
        "a3b5e84d93444190b45272d6f308d77f": {
          "model_module": "@jupyter-widgets/controls",
          "model_name": "FloatProgressModel",
          "model_module_version": "1.5.0",
          "state": {
            "_dom_classes": [],
            "_model_module": "@jupyter-widgets/controls",
            "_model_module_version": "1.5.0",
            "_model_name": "FloatProgressModel",
            "_view_count": null,
            "_view_module": "@jupyter-widgets/controls",
            "_view_module_version": "1.5.0",
            "_view_name": "ProgressView",
            "bar_style": "",
            "description": "",
            "description_tooltip": null,
            "layout": "IPY_MODEL_a881adae6f144322a5966e05ac747496",
            "max": 1,
            "min": 0,
            "orientation": "horizontal",
            "style": "IPY_MODEL_13ce5cdb14434e0dbde978385a8a17e3",
            "value": 1
          }
        },
        "4ec2b122f1ac4096a2c7aaf7182b7ff1": {
          "model_module": "@jupyter-widgets/base",
          "model_name": "LayoutModel",
          "model_module_version": "1.2.0",
          "state": {
            "_model_module": "@jupyter-widgets/base",
            "_model_module_version": "1.2.0",
            "_model_name": "LayoutModel",
            "_view_count": null,
            "_view_module": "@jupyter-widgets/base",
            "_view_module_version": "1.2.0",
            "_view_name": "LayoutView",
            "align_content": null,
            "align_items": null,
            "align_self": null,
            "border": null,
            "bottom": null,
            "display": null,
            "flex": null,
            "flex_flow": null,
            "grid_area": null,
            "grid_auto_columns": null,
            "grid_auto_flow": null,
            "grid_auto_rows": null,
            "grid_column": null,
            "grid_gap": null,
            "grid_row": null,
            "grid_template_areas": null,
            "grid_template_columns": null,
            "grid_template_rows": null,
            "height": null,
            "justify_content": null,
            "justify_items": null,
            "left": null,
            "margin": null,
            "max_height": null,
            "max_width": null,
            "min_height": null,
            "min_width": null,
            "object_fit": null,
            "object_position": null,
            "order": null,
            "overflow": null,
            "overflow_x": null,
            "overflow_y": null,
            "padding": null,
            "right": null,
            "top": null,
            "visibility": null,
            "width": null
          }
        },
        "5af0b7e4e02548f2aa455ecd15479100": {
          "model_module": "@jupyter-widgets/base",
          "model_name": "LayoutModel",
          "model_module_version": "1.2.0",
          "state": {
            "_model_module": "@jupyter-widgets/base",
            "_model_module_version": "1.2.0",
            "_model_name": "LayoutModel",
            "_view_count": null,
            "_view_module": "@jupyter-widgets/base",
            "_view_module_version": "1.2.0",
            "_view_name": "LayoutView",
            "align_content": null,
            "align_items": null,
            "align_self": null,
            "border": null,
            "bottom": null,
            "display": null,
            "flex": null,
            "flex_flow": null,
            "grid_area": null,
            "grid_auto_columns": null,
            "grid_auto_flow": null,
            "grid_auto_rows": null,
            "grid_column": null,
            "grid_gap": null,
            "grid_row": null,
            "grid_template_areas": null,
            "grid_template_columns": null,
            "grid_template_rows": null,
            "height": null,
            "justify_content": null,
            "justify_items": null,
            "left": null,
            "margin": null,
            "max_height": null,
            "max_width": null,
            "min_height": null,
            "min_width": null,
            "object_fit": null,
            "object_position": null,
            "order": null,
            "overflow": null,
            "overflow_x": null,
            "overflow_y": null,
            "padding": null,
            "right": null,
            "top": null,
            "visibility": null,
            "width": null
          }
        },
        "2b344da37e334ec9828386542dea19f5": {
          "model_module": "@jupyter-widgets/controls",
          "model_name": "DescriptionStyleModel",
          "model_module_version": "1.5.0",
          "state": {
            "_model_module": "@jupyter-widgets/controls",
            "_model_module_version": "1.5.0",
            "_model_name": "DescriptionStyleModel",
            "_view_count": null,
            "_view_module": "@jupyter-widgets/base",
            "_view_module_version": "1.2.0",
            "_view_name": "StyleView",
            "description_width": ""
          }
        },
        "a881adae6f144322a5966e05ac747496": {
          "model_module": "@jupyter-widgets/base",
          "model_name": "LayoutModel",
          "model_module_version": "1.2.0",
          "state": {
            "_model_module": "@jupyter-widgets/base",
            "_model_module_version": "1.2.0",
            "_model_name": "LayoutModel",
            "_view_count": null,
            "_view_module": "@jupyter-widgets/base",
            "_view_module_version": "1.2.0",
            "_view_name": "LayoutView",
            "align_content": null,
            "align_items": null,
            "align_self": null,
            "border": null,
            "bottom": null,
            "display": null,
            "flex": null,
            "flex_flow": null,
            "grid_area": null,
            "grid_auto_columns": null,
            "grid_auto_flow": null,
            "grid_auto_rows": null,
            "grid_column": null,
            "grid_gap": null,
            "grid_row": null,
            "grid_template_areas": null,
            "grid_template_columns": null,
            "grid_template_rows": null,
            "height": null,
            "justify_content": null,
            "justify_items": null,
            "left": null,
            "margin": null,
            "max_height": null,
            "max_width": null,
            "min_height": null,
            "min_width": null,
            "object_fit": null,
            "object_position": null,
            "order": null,
            "overflow": null,
            "overflow_x": null,
            "overflow_y": null,
            "padding": null,
            "right": null,
            "top": null,
            "visibility": null,
            "width": null
          }
        },
        "13ce5cdb14434e0dbde978385a8a17e3": {
          "model_module": "@jupyter-widgets/controls",
          "model_name": "ProgressStyleModel",
          "model_module_version": "1.5.0",
          "state": {
            "_model_module": "@jupyter-widgets/controls",
            "_model_module_version": "1.5.0",
            "_model_name": "ProgressStyleModel",
            "_view_count": null,
            "_view_module": "@jupyter-widgets/base",
            "_view_module_version": "1.2.0",
            "_view_name": "StyleView",
            "bar_color": null,
            "description_width": ""
          }
        }
      }
    }
  },
  "cells": [
    {
      "cell_type": "markdown",
      "metadata": {
        "id": "view-in-github",
        "colab_type": "text"
      },
      "source": [
        "<a href=\"https://colab.research.google.com/github/Mrezakhodashenas/PhD-NN/blob/Mrezakhodashenas-Noise_Investigation/Noise_investigation.ipynb\" target=\"_parent\"><img src=\"https://colab.research.google.com/assets/colab-badge.svg\" alt=\"Open In Colab\"/></a>"
      ]
    },
    {
      "cell_type": "code",
      "execution_count": 1,
      "metadata": {
        "id": "6HiiAfjcTIpU"
      },
      "outputs": [],
      "source": [
        "%reset -f"
      ]
    },
    {
      "cell_type": "code",
      "source": [
        "!pip install wandb --upgrade"
      ],
      "metadata": {
        "colab": {
          "base_uri": "https://localhost:8080/"
        },
        "id": "s8fz5OaNTdGj",
        "outputId": "39a1c4c1-d9fb-42a9-e935-452a7b273890"
      },
      "execution_count": 2,
      "outputs": [
        {
          "output_type": "stream",
          "name": "stdout",
          "text": [
            "Collecting wandb\n",
            "  Downloading wandb-0.16.3-py3-none-any.whl (2.2 MB)\n",
            "\u001b[2K     \u001b[90m━━━━━━━━━━━━━━━━━━━━━━━━━━━━━━━━━━━━━━━━\u001b[0m \u001b[32m2.2/2.2 MB\u001b[0m \u001b[31m9.4 MB/s\u001b[0m eta \u001b[36m0:00:00\u001b[0m\n",
            "\u001b[?25hRequirement already satisfied: Click!=8.0.0,>=7.1 in /usr/local/lib/python3.10/dist-packages (from wandb) (8.1.7)\n",
            "Collecting GitPython!=3.1.29,>=1.0.0 (from wandb)\n",
            "  Downloading GitPython-3.1.42-py3-none-any.whl (195 kB)\n",
            "\u001b[2K     \u001b[90m━━━━━━━━━━━━━━━━━━━━━━━━━━━━━━━━━━━━━━━━\u001b[0m \u001b[32m195.4/195.4 kB\u001b[0m \u001b[31m26.3 MB/s\u001b[0m eta \u001b[36m0:00:00\u001b[0m\n",
            "\u001b[?25hRequirement already satisfied: requests<3,>=2.0.0 in /usr/local/lib/python3.10/dist-packages (from wandb) (2.31.0)\n",
            "Requirement already satisfied: psutil>=5.0.0 in /usr/local/lib/python3.10/dist-packages (from wandb) (5.9.5)\n",
            "Collecting sentry-sdk>=1.0.0 (from wandb)\n",
            "  Downloading sentry_sdk-1.40.4-py2.py3-none-any.whl (257 kB)\n",
            "\u001b[2K     \u001b[90m━━━━━━━━━━━━━━━━━━━━━━━━━━━━━━━━━━━━━━━━\u001b[0m \u001b[32m257.9/257.9 kB\u001b[0m \u001b[31m36.3 MB/s\u001b[0m eta \u001b[36m0:00:00\u001b[0m\n",
            "\u001b[?25hCollecting docker-pycreds>=0.4.0 (from wandb)\n",
            "  Downloading docker_pycreds-0.4.0-py2.py3-none-any.whl (9.0 kB)\n",
            "Requirement already satisfied: PyYAML in /usr/local/lib/python3.10/dist-packages (from wandb) (6.0.1)\n",
            "Collecting setproctitle (from wandb)\n",
            "  Downloading setproctitle-1.3.3-cp310-cp310-manylinux_2_5_x86_64.manylinux1_x86_64.manylinux_2_17_x86_64.manylinux2014_x86_64.whl (30 kB)\n",
            "Requirement already satisfied: setuptools in /usr/local/lib/python3.10/dist-packages (from wandb) (67.7.2)\n",
            "Requirement already satisfied: appdirs>=1.4.3 in /usr/local/lib/python3.10/dist-packages (from wandb) (1.4.4)\n",
            "Requirement already satisfied: protobuf!=4.21.0,<5,>=3.19.0 in /usr/local/lib/python3.10/dist-packages (from wandb) (3.20.3)\n",
            "Requirement already satisfied: six>=1.4.0 in /usr/local/lib/python3.10/dist-packages (from docker-pycreds>=0.4.0->wandb) (1.16.0)\n",
            "Collecting gitdb<5,>=4.0.1 (from GitPython!=3.1.29,>=1.0.0->wandb)\n",
            "  Downloading gitdb-4.0.11-py3-none-any.whl (62 kB)\n",
            "\u001b[2K     \u001b[90m━━━━━━━━━━━━━━━━━━━━━━━━━━━━━━━━━━━━━━━━\u001b[0m \u001b[32m62.7/62.7 kB\u001b[0m \u001b[31m9.0 MB/s\u001b[0m eta \u001b[36m0:00:00\u001b[0m\n",
            "\u001b[?25hRequirement already satisfied: charset-normalizer<4,>=2 in /usr/local/lib/python3.10/dist-packages (from requests<3,>=2.0.0->wandb) (3.3.2)\n",
            "Requirement already satisfied: idna<4,>=2.5 in /usr/local/lib/python3.10/dist-packages (from requests<3,>=2.0.0->wandb) (3.6)\n",
            "Requirement already satisfied: urllib3<3,>=1.21.1 in /usr/local/lib/python3.10/dist-packages (from requests<3,>=2.0.0->wandb) (2.0.7)\n",
            "Requirement already satisfied: certifi>=2017.4.17 in /usr/local/lib/python3.10/dist-packages (from requests<3,>=2.0.0->wandb) (2024.2.2)\n",
            "Collecting smmap<6,>=3.0.1 (from gitdb<5,>=4.0.1->GitPython!=3.1.29,>=1.0.0->wandb)\n",
            "  Downloading smmap-5.0.1-py3-none-any.whl (24 kB)\n",
            "Installing collected packages: smmap, setproctitle, sentry-sdk, docker-pycreds, gitdb, GitPython, wandb\n",
            "Successfully installed GitPython-3.1.42 docker-pycreds-0.4.0 gitdb-4.0.11 sentry-sdk-1.40.4 setproctitle-1.3.3 smmap-5.0.1 wandb-0.16.3\n"
          ]
        }
      ]
    },
    {
      "cell_type": "code",
      "execution_count": 3,
      "metadata": {
        "id": "EmnhljuKb4Oo",
        "colab": {
          "base_uri": "https://localhost:8080/"
        },
        "outputId": "5410e8d6-8757-455d-f5aa-159026693817"
      },
      "outputs": [
        {
          "output_type": "stream",
          "name": "stdout",
          "text": [
            "\u001b[2K     \u001b[90m━━━━━━━━━━━━━━━━━━━━━━━━━━━━━━━━━━━━━━━━\u001b[0m \u001b[32m15.7/15.7 MB\u001b[0m \u001b[31m47.2 MB/s\u001b[0m eta \u001b[36m0:00:00\u001b[0m\n",
            "\u001b[?25h"
          ]
        }
      ],
      "source": [
        "!pip install wandb onnx -Uq"
      ]
    },
    {
      "cell_type": "code",
      "source": [
        "!pip install torch"
      ],
      "metadata": {
        "colab": {
          "base_uri": "https://localhost:8080/"
        },
        "id": "wOq6G-QBejwM",
        "outputId": "65bc27c6-f2d5-453c-d2bf-9dd7b8534fe1"
      },
      "execution_count": 4,
      "outputs": [
        {
          "output_type": "stream",
          "name": "stdout",
          "text": [
            "Requirement already satisfied: torch in /usr/local/lib/python3.10/dist-packages (2.1.0+cu121)\n",
            "Requirement already satisfied: filelock in /usr/local/lib/python3.10/dist-packages (from torch) (3.13.1)\n",
            "Requirement already satisfied: typing-extensions in /usr/local/lib/python3.10/dist-packages (from torch) (4.9.0)\n",
            "Requirement already satisfied: sympy in /usr/local/lib/python3.10/dist-packages (from torch) (1.12)\n",
            "Requirement already satisfied: networkx in /usr/local/lib/python3.10/dist-packages (from torch) (3.2.1)\n",
            "Requirement already satisfied: jinja2 in /usr/local/lib/python3.10/dist-packages (from torch) (3.1.3)\n",
            "Requirement already satisfied: fsspec in /usr/local/lib/python3.10/dist-packages (from torch) (2023.6.0)\n",
            "Requirement already satisfied: triton==2.1.0 in /usr/local/lib/python3.10/dist-packages (from torch) (2.1.0)\n",
            "Requirement already satisfied: MarkupSafe>=2.0 in /usr/local/lib/python3.10/dist-packages (from jinja2->torch) (2.1.5)\n",
            "Requirement already satisfied: mpmath>=0.19 in /usr/local/lib/python3.10/dist-packages (from sympy->torch) (1.3.0)\n"
          ]
        }
      ]
    },
    {
      "cell_type": "code",
      "source": [
        "!pip install pytorch-lightning"
      ],
      "metadata": {
        "colab": {
          "base_uri": "https://localhost:8080/"
        },
        "id": "czXuC1x8el5J",
        "outputId": "10f5ef34-55ed-4c18-9232-0a2f0d3d356f"
      },
      "execution_count": 5,
      "outputs": [
        {
          "output_type": "stream",
          "name": "stdout",
          "text": [
            "Collecting pytorch-lightning\n",
            "  Downloading pytorch_lightning-2.2.0.post0-py3-none-any.whl (800 kB)\n",
            "\u001b[2K     \u001b[90m━━━━━━━━━━━━━━━━━━━━━━━━━━━━━━━━━━━━━━━━\u001b[0m \u001b[32m800.9/800.9 kB\u001b[0m \u001b[31m4.5 MB/s\u001b[0m eta \u001b[36m0:00:00\u001b[0m\n",
            "\u001b[?25hRequirement already satisfied: numpy>=1.17.2 in /usr/local/lib/python3.10/dist-packages (from pytorch-lightning) (1.25.2)\n",
            "Requirement already satisfied: torch>=1.13.0 in /usr/local/lib/python3.10/dist-packages (from pytorch-lightning) (2.1.0+cu121)\n",
            "Requirement already satisfied: tqdm>=4.57.0 in /usr/local/lib/python3.10/dist-packages (from pytorch-lightning) (4.66.2)\n",
            "Requirement already satisfied: PyYAML>=5.4 in /usr/local/lib/python3.10/dist-packages (from pytorch-lightning) (6.0.1)\n",
            "Requirement already satisfied: fsspec[http]>=2022.5.0 in /usr/local/lib/python3.10/dist-packages (from pytorch-lightning) (2023.6.0)\n",
            "Collecting torchmetrics>=0.7.0 (from pytorch-lightning)\n",
            "  Downloading torchmetrics-1.3.1-py3-none-any.whl (840 kB)\n",
            "\u001b[2K     \u001b[90m━━━━━━━━━━━━━━━━━━━━━━━━━━━━━━━━━━━━━━━━\u001b[0m \u001b[32m840.4/840.4 kB\u001b[0m \u001b[31m33.2 MB/s\u001b[0m eta \u001b[36m0:00:00\u001b[0m\n",
            "\u001b[?25hRequirement already satisfied: packaging>=20.0 in /usr/local/lib/python3.10/dist-packages (from pytorch-lightning) (23.2)\n",
            "Requirement already satisfied: typing-extensions>=4.4.0 in /usr/local/lib/python3.10/dist-packages (from pytorch-lightning) (4.9.0)\n",
            "Collecting lightning-utilities>=0.8.0 (from pytorch-lightning)\n",
            "  Downloading lightning_utilities-0.10.1-py3-none-any.whl (24 kB)\n",
            "Requirement already satisfied: requests in /usr/local/lib/python3.10/dist-packages (from fsspec[http]>=2022.5.0->pytorch-lightning) (2.31.0)\n",
            "Requirement already satisfied: aiohttp!=4.0.0a0,!=4.0.0a1 in /usr/local/lib/python3.10/dist-packages (from fsspec[http]>=2022.5.0->pytorch-lightning) (3.9.3)\n",
            "Requirement already satisfied: setuptools in /usr/local/lib/python3.10/dist-packages (from lightning-utilities>=0.8.0->pytorch-lightning) (67.7.2)\n",
            "Requirement already satisfied: filelock in /usr/local/lib/python3.10/dist-packages (from torch>=1.13.0->pytorch-lightning) (3.13.1)\n",
            "Requirement already satisfied: sympy in /usr/local/lib/python3.10/dist-packages (from torch>=1.13.0->pytorch-lightning) (1.12)\n",
            "Requirement already satisfied: networkx in /usr/local/lib/python3.10/dist-packages (from torch>=1.13.0->pytorch-lightning) (3.2.1)\n",
            "Requirement already satisfied: jinja2 in /usr/local/lib/python3.10/dist-packages (from torch>=1.13.0->pytorch-lightning) (3.1.3)\n",
            "Requirement already satisfied: triton==2.1.0 in /usr/local/lib/python3.10/dist-packages (from torch>=1.13.0->pytorch-lightning) (2.1.0)\n",
            "Requirement already satisfied: aiosignal>=1.1.2 in /usr/local/lib/python3.10/dist-packages (from aiohttp!=4.0.0a0,!=4.0.0a1->fsspec[http]>=2022.5.0->pytorch-lightning) (1.3.1)\n",
            "Requirement already satisfied: attrs>=17.3.0 in /usr/local/lib/python3.10/dist-packages (from aiohttp!=4.0.0a0,!=4.0.0a1->fsspec[http]>=2022.5.0->pytorch-lightning) (23.2.0)\n",
            "Requirement already satisfied: frozenlist>=1.1.1 in /usr/local/lib/python3.10/dist-packages (from aiohttp!=4.0.0a0,!=4.0.0a1->fsspec[http]>=2022.5.0->pytorch-lightning) (1.4.1)\n",
            "Requirement already satisfied: multidict<7.0,>=4.5 in /usr/local/lib/python3.10/dist-packages (from aiohttp!=4.0.0a0,!=4.0.0a1->fsspec[http]>=2022.5.0->pytorch-lightning) (6.0.5)\n",
            "Requirement already satisfied: yarl<2.0,>=1.0 in /usr/local/lib/python3.10/dist-packages (from aiohttp!=4.0.0a0,!=4.0.0a1->fsspec[http]>=2022.5.0->pytorch-lightning) (1.9.4)\n",
            "Requirement already satisfied: async-timeout<5.0,>=4.0 in /usr/local/lib/python3.10/dist-packages (from aiohttp!=4.0.0a0,!=4.0.0a1->fsspec[http]>=2022.5.0->pytorch-lightning) (4.0.3)\n",
            "Requirement already satisfied: MarkupSafe>=2.0 in /usr/local/lib/python3.10/dist-packages (from jinja2->torch>=1.13.0->pytorch-lightning) (2.1.5)\n",
            "Requirement already satisfied: charset-normalizer<4,>=2 in /usr/local/lib/python3.10/dist-packages (from requests->fsspec[http]>=2022.5.0->pytorch-lightning) (3.3.2)\n",
            "Requirement already satisfied: idna<4,>=2.5 in /usr/local/lib/python3.10/dist-packages (from requests->fsspec[http]>=2022.5.0->pytorch-lightning) (3.6)\n",
            "Requirement already satisfied: urllib3<3,>=1.21.1 in /usr/local/lib/python3.10/dist-packages (from requests->fsspec[http]>=2022.5.0->pytorch-lightning) (2.0.7)\n",
            "Requirement already satisfied: certifi>=2017.4.17 in /usr/local/lib/python3.10/dist-packages (from requests->fsspec[http]>=2022.5.0->pytorch-lightning) (2024.2.2)\n",
            "Requirement already satisfied: mpmath>=0.19 in /usr/local/lib/python3.10/dist-packages (from sympy->torch>=1.13.0->pytorch-lightning) (1.3.0)\n",
            "Installing collected packages: lightning-utilities, torchmetrics, pytorch-lightning\n",
            "Successfully installed lightning-utilities-0.10.1 pytorch-lightning-2.2.0.post0 torchmetrics-1.3.1\n"
          ]
        }
      ]
    },
    {
      "cell_type": "code",
      "execution_count": 6,
      "metadata": {
        "colab": {
          "base_uri": "https://localhost:8080/"
        },
        "id": "MTEDV8wqLZXr",
        "outputId": "9ff11089-f058-4aea-c8be-a6d4f22a363a"
      },
      "outputs": [
        {
          "output_type": "stream",
          "name": "stdout",
          "text": [
            "Collecting snntorch\n",
            "  Downloading snntorch-0.7.0-py2.py3-none-any.whl (108 kB)\n",
            "\u001b[2K     \u001b[90m━━━━━━━━━━━━━━━━━━━━━━━━━━━━━━━━━━━━━━━━\u001b[0m \u001b[32m109.0/109.0 kB\u001b[0m \u001b[31m1.7 MB/s\u001b[0m eta \u001b[36m0:00:00\u001b[0m\n",
            "\u001b[?25hRequirement already satisfied: torch>=1.1.0 in /usr/local/lib/python3.10/dist-packages (from snntorch) (2.1.0+cu121)\n",
            "Requirement already satisfied: pandas in /usr/local/lib/python3.10/dist-packages (from snntorch) (1.5.3)\n",
            "Requirement already satisfied: matplotlib in /usr/local/lib/python3.10/dist-packages (from snntorch) (3.7.1)\n",
            "Requirement already satisfied: numpy>=1.17 in /usr/local/lib/python3.10/dist-packages (from snntorch) (1.25.2)\n",
            "Collecting nir (from snntorch)\n",
            "  Downloading nir-1.0.1-py3-none-any.whl (76 kB)\n",
            "\u001b[2K     \u001b[90m━━━━━━━━━━━━━━━━━━━━━━━━━━━━━━━━━━━━━━━━\u001b[0m \u001b[32m76.2/76.2 kB\u001b[0m \u001b[31m12.4 MB/s\u001b[0m eta \u001b[36m0:00:00\u001b[0m\n",
            "\u001b[?25hCollecting nirtorch (from snntorch)\n",
            "  Downloading nirtorch-1.0-py3-none-any.whl (13 kB)\n",
            "Requirement already satisfied: filelock in /usr/local/lib/python3.10/dist-packages (from torch>=1.1.0->snntorch) (3.13.1)\n",
            "Requirement already satisfied: typing-extensions in /usr/local/lib/python3.10/dist-packages (from torch>=1.1.0->snntorch) (4.9.0)\n",
            "Requirement already satisfied: sympy in /usr/local/lib/python3.10/dist-packages (from torch>=1.1.0->snntorch) (1.12)\n",
            "Requirement already satisfied: networkx in /usr/local/lib/python3.10/dist-packages (from torch>=1.1.0->snntorch) (3.2.1)\n",
            "Requirement already satisfied: jinja2 in /usr/local/lib/python3.10/dist-packages (from torch>=1.1.0->snntorch) (3.1.3)\n",
            "Requirement already satisfied: fsspec in /usr/local/lib/python3.10/dist-packages (from torch>=1.1.0->snntorch) (2023.6.0)\n",
            "Requirement already satisfied: triton==2.1.0 in /usr/local/lib/python3.10/dist-packages (from torch>=1.1.0->snntorch) (2.1.0)\n",
            "Requirement already satisfied: contourpy>=1.0.1 in /usr/local/lib/python3.10/dist-packages (from matplotlib->snntorch) (1.2.0)\n",
            "Requirement already satisfied: cycler>=0.10 in /usr/local/lib/python3.10/dist-packages (from matplotlib->snntorch) (0.12.1)\n",
            "Requirement already satisfied: fonttools>=4.22.0 in /usr/local/lib/python3.10/dist-packages (from matplotlib->snntorch) (4.48.1)\n",
            "Requirement already satisfied: kiwisolver>=1.0.1 in /usr/local/lib/python3.10/dist-packages (from matplotlib->snntorch) (1.4.5)\n",
            "Requirement already satisfied: packaging>=20.0 in /usr/local/lib/python3.10/dist-packages (from matplotlib->snntorch) (23.2)\n",
            "Requirement already satisfied: pillow>=6.2.0 in /usr/local/lib/python3.10/dist-packages (from matplotlib->snntorch) (9.4.0)\n",
            "Requirement already satisfied: pyparsing>=2.3.1 in /usr/local/lib/python3.10/dist-packages (from matplotlib->snntorch) (3.1.1)\n",
            "Requirement already satisfied: python-dateutil>=2.7 in /usr/local/lib/python3.10/dist-packages (from matplotlib->snntorch) (2.8.2)\n",
            "Requirement already satisfied: h5py in /usr/local/lib/python3.10/dist-packages (from nir->snntorch) (3.9.0)\n",
            "Requirement already satisfied: pytz>=2020.1 in /usr/local/lib/python3.10/dist-packages (from pandas->snntorch) (2023.4)\n",
            "Requirement already satisfied: six>=1.5 in /usr/local/lib/python3.10/dist-packages (from python-dateutil>=2.7->matplotlib->snntorch) (1.16.0)\n",
            "Requirement already satisfied: MarkupSafe>=2.0 in /usr/local/lib/python3.10/dist-packages (from jinja2->torch>=1.1.0->snntorch) (2.1.5)\n",
            "Requirement already satisfied: mpmath>=0.19 in /usr/local/lib/python3.10/dist-packages (from sympy->torch>=1.1.0->snntorch) (1.3.0)\n",
            "Installing collected packages: nir, nirtorch, snntorch\n",
            "Successfully installed nir-1.0.1 nirtorch-1.0 snntorch-0.7.0\n"
          ]
        }
      ],
      "source": [
        "!pip install snntorch"
      ]
    },
    {
      "cell_type": "code",
      "execution_count": 7,
      "metadata": {
        "colab": {
          "base_uri": "https://localhost:8080/"
        },
        "id": "NGPDVXvjdGsl",
        "outputId": "facb1a97-ed09-4ac3-86b4-59a07fe80f64"
      },
      "outputs": [
        {
          "output_type": "stream",
          "name": "stdout",
          "text": [
            "Requirement already satisfied: torchsummary in /usr/local/lib/python3.10/dist-packages (1.5.1)\n"
          ]
        }
      ],
      "source": [
        "!pip install torchsummary"
      ]
    },
    {
      "cell_type": "code",
      "source": [
        "!pip install bayesian-optimization"
      ],
      "metadata": {
        "colab": {
          "base_uri": "https://localhost:8080/"
        },
        "id": "qKSWyd_e2bxY",
        "outputId": "f56307a0-ca4a-48b9-dce6-7410ba3c842f"
      },
      "execution_count": 8,
      "outputs": [
        {
          "output_type": "stream",
          "name": "stdout",
          "text": [
            "Collecting bayesian-optimization\n",
            "  Downloading bayesian_optimization-1.4.3-py3-none-any.whl (18 kB)\n",
            "Requirement already satisfied: numpy>=1.9.0 in /usr/local/lib/python3.10/dist-packages (from bayesian-optimization) (1.25.2)\n",
            "Requirement already satisfied: scipy>=1.0.0 in /usr/local/lib/python3.10/dist-packages (from bayesian-optimization) (1.11.4)\n",
            "Requirement already satisfied: scikit-learn>=0.18.0 in /usr/local/lib/python3.10/dist-packages (from bayesian-optimization) (1.2.2)\n",
            "Collecting colorama>=0.4.6 (from bayesian-optimization)\n",
            "  Downloading colorama-0.4.6-py2.py3-none-any.whl (25 kB)\n",
            "Requirement already satisfied: joblib>=1.1.1 in /usr/local/lib/python3.10/dist-packages (from scikit-learn>=0.18.0->bayesian-optimization) (1.3.2)\n",
            "Requirement already satisfied: threadpoolctl>=2.0.0 in /usr/local/lib/python3.10/dist-packages (from scikit-learn>=0.18.0->bayesian-optimization) (3.2.0)\n",
            "Installing collected packages: colorama, bayesian-optimization\n",
            "Successfully installed bayesian-optimization-1.4.3 colorama-0.4.6\n"
          ]
        }
      ]
    },
    {
      "cell_type": "markdown",
      "metadata": {
        "id": "KehrXuVuPiAt"
      },
      "source": [
        "## set seeds for PyTorch and Numpy to ensure reproducibility:"
      ]
    },
    {
      "cell_type": "code",
      "execution_count": 9,
      "metadata": {
        "id": "NbSadcLWPedr"
      },
      "outputs": [],
      "source": [
        "import torch\n",
        "import random\n",
        "import numpy as np\n",
        "\n",
        "# Set seeds for Python, Numpy, and Torch for reproducibility\n",
        "# Ensure deterministic behavior\n",
        "torch.backends.cudnn.deterministic = True\n",
        "random.seed(hash(\"setting random seeds\") % 2**32 - 1)\n",
        "np.random.seed(hash(\"improves reproducibility\") % 2**32 - 1)\n",
        "torch.manual_seed(hash(\"by removing stochasticity\") % 2**32 - 1)\n",
        "torch.cuda.manual_seed_all(hash(\"so runs are repeatable\") % 2**32 - 1)\n",
        "\n",
        "\n",
        "# seed = 42\n",
        "# random.seed(seed)\n",
        "# np.random.seed(seed)\n",
        "# torch.manual_seed(seed)\n",
        "# torch.cuda.manual_seed_all(seed)\n",
        "\n",
        "# Additional steps if you're using GPU\n",
        "torch.backends.cudnn.deterministic = True\n",
        "torch.backends.cudnn.benchmark = False\n"
      ]
    },
    {
      "cell_type": "code",
      "execution_count": 10,
      "metadata": {
        "id": "UyXSF4IqLFND"
      },
      "outputs": [],
      "source": [
        "# imports\n",
        "import pickle\n",
        "import matplotlib.animation as animation\n",
        "from scipy.integrate import simps\n",
        "import torch\n",
        "torch.cuda.empty_cache()\n",
        "import os, sys, time, datetime, json, random\n",
        "import snntorch as snn\n",
        "from snntorch import spikeplot as splt\n",
        "from snntorch import spikegen\n",
        "import torch\n",
        "import torch.nn as nn\n",
        "import matplotlib.pyplot as plt\n",
        "import os\n",
        "import torch.nn.functional as F\n",
        "from torchvision import datasets, transforms\n",
        "from torch.utils.data import DataLoader\n",
        "from torchvision import utils as utls\n",
        "from snntorch import utils\n",
        "from snntorch import surrogate\n",
        "import numpy as np\n",
        "import math\n",
        "from sklearn.metrics import auc\n",
        "from torchsummary import summary\n",
        "from sklearn.manifold import TSNE\n",
        "from sklearn.decomposition import PCA\n",
        "import torch.nn as nn\n",
        "from scipy.stats import entropy\n",
        "from scipy.special import kl_div\n",
        "from torch.autograd import Variable\n",
        "from sklearn.metrics import accuracy_score\n",
        "# from skopt import gp_minimize\n",
        "from bayes_opt import BayesianOptimization\n",
        "import wandb\n",
        "from tqdm.auto import tqdm\n",
        "\n",
        "\n",
        "# import spikeflow as snn"
      ]
    },
    {
      "cell_type": "code",
      "source": [
        "# fe7dfc869c7793392e4f225d9d64f615e2fd70ec\n",
        "wandb.login()"
      ],
      "metadata": {
        "id": "5IigYTjbTrGO",
        "colab": {
          "base_uri": "https://localhost:8080/",
          "height": 121
        },
        "outputId": "db2a17df-eb40-404a-f883-dff4a8c51abd"
      },
      "execution_count": 11,
      "outputs": [
        {
          "output_type": "display_data",
          "data": {
            "text/plain": [
              "<IPython.core.display.Javascript object>"
            ],
            "application/javascript": [
              "\n",
              "        window._wandbApiKey = new Promise((resolve, reject) => {\n",
              "            function loadScript(url) {\n",
              "            return new Promise(function(resolve, reject) {\n",
              "                let newScript = document.createElement(\"script\");\n",
              "                newScript.onerror = reject;\n",
              "                newScript.onload = resolve;\n",
              "                document.body.appendChild(newScript);\n",
              "                newScript.src = url;\n",
              "            });\n",
              "            }\n",
              "            loadScript(\"https://cdn.jsdelivr.net/npm/postmate/build/postmate.min.js\").then(() => {\n",
              "            const iframe = document.createElement('iframe')\n",
              "            iframe.style.cssText = \"width:0;height:0;border:none\"\n",
              "            document.body.appendChild(iframe)\n",
              "            const handshake = new Postmate({\n",
              "                container: iframe,\n",
              "                url: 'https://wandb.ai/authorize'\n",
              "            });\n",
              "            const timeout = setTimeout(() => reject(\"Couldn't auto authenticate\"), 5000)\n",
              "            handshake.then(function(child) {\n",
              "                child.on('authorize', data => {\n",
              "                    clearTimeout(timeout)\n",
              "                    resolve(data)\n",
              "                });\n",
              "            });\n",
              "            })\n",
              "        });\n",
              "    "
            ]
          },
          "metadata": {}
        },
        {
          "output_type": "stream",
          "name": "stderr",
          "text": [
            "\u001b[34m\u001b[1mwandb\u001b[0m: Logging into wandb.ai. (Learn how to deploy a W&B server locally: https://wandb.me/wandb-server)\n",
            "\u001b[34m\u001b[1mwandb\u001b[0m: You can find your API key in your browser here: https://wandb.ai/authorize\n",
            "wandb: Paste an API key from your profile and hit enter, or press ctrl+c to quit:"
          ]
        },
        {
          "name": "stdout",
          "output_type": "stream",
          "text": [
            " ··········\n"
          ]
        },
        {
          "output_type": "stream",
          "name": "stderr",
          "text": [
            "\u001b[34m\u001b[1mwandb\u001b[0m: Appending key for api.wandb.ai to your netrc file: /root/.netrc\n"
          ]
        },
        {
          "output_type": "execute_result",
          "data": {
            "text/plain": [
              "True"
            ]
          },
          "metadata": {},
          "execution_count": 11
        }
      ]
    },
    {
      "cell_type": "code",
      "source": [
        "wandb.init(project=\"W&B_NoiseInvestigation\")      # Set the project where this run will be logged\n",
        "\n",
        "config = dict(\n",
        "    stddev_num_intervals = 11,  # Adjust the number of intervals as needed\n",
        "    std_dev_range = np.linspace(0, 1), # stddev_num_intervals),\n",
        "    subset_fraction = 0.05,     # the percentage of the data used\n",
        "    epochs=5,\n",
        "\n",
        "    batch_size=250,\n",
        "    learning_rate=0.0001,\n",
        "    input_size = 32,\n",
        "    kernels=[32, 64, 128],\n",
        "    threshold_Real = 0.5,\n",
        "    threshold_Recon = 0.5,\n",
        "\n",
        "    alpha=0.9,\n",
        "    beta_syn=0.0001,\n",
        "    # beta_syn=0.9,\n",
        "    beta =0.9,\n",
        "    num_steps=5,\n",
        "    latent_dim = 32, #dimension of latent layer (how compressed we want the information)\n",
        "    thresh=1,    #spiking threshold (lower = more spikes are let through)\n",
        "\n",
        "    lr=0.0001,\n",
        "    betas=(0.9, 0.999),\n",
        "    weight_decay=0.001,\n",
        "\n",
        "    dataset=\"MNIST\",\n",
        "    architecture=\"SAE(L_Syn_Syn_L)\")"
      ],
      "metadata": {
        "colab": {
          "base_uri": "https://localhost:8080/",
          "height": 191,
          "referenced_widgets": [
            "c420dbd79a034475b222aaa871a74d79",
            "7da9051009e24d2c8e3d34849c6b03f6",
            "a3b5e84d93444190b45272d6f308d77f",
            "4ec2b122f1ac4096a2c7aaf7182b7ff1",
            "5af0b7e4e02548f2aa455ecd15479100",
            "2b344da37e334ec9828386542dea19f5",
            "a881adae6f144322a5966e05ac747496",
            "13ce5cdb14434e0dbde978385a8a17e3"
          ]
        },
        "id": "hwNnL8kRUHvW",
        "outputId": "1c8f3214-e8ef-4027-fa84-1987238ed46b"
      },
      "execution_count": 14,
      "outputs": [
        {
          "output_type": "display_data",
          "data": {
            "text/plain": [
              "<IPython.core.display.HTML object>"
            ],
            "text/html": [
              "Finishing last run (ID:jy3ui222) before initializing another..."
            ]
          },
          "metadata": {}
        },
        {
          "output_type": "display_data",
          "data": {
            "text/plain": [
              "VBox(children=(Label(value='0.010 MB of 0.010 MB uploaded\\r'), FloatProgress(value=1.0, max=1.0)))"
            ],
            "application/vnd.jupyter.widget-view+json": {
              "version_major": 2,
              "version_minor": 0,
              "model_id": "c420dbd79a034475b222aaa871a74d79"
            }
          },
          "metadata": {}
        },
        {
          "output_type": "display_data",
          "data": {
            "text/plain": [
              "<IPython.core.display.HTML object>"
            ],
            "text/html": [
              " View run <strong style=\"color:#cdcd00\">filigreed-moon-5</strong> at: <a href='https://wandb.ai/neuroscience_ai/W%26B_NoiseInvestigation/runs/jy3ui222' target=\"_blank\">https://wandb.ai/neuroscience_ai/W%26B_NoiseInvestigation/runs/jy3ui222</a><br/>Synced 4 W&B file(s), 0 media file(s), 0 artifact file(s) and 0 other file(s)"
            ]
          },
          "metadata": {}
        },
        {
          "output_type": "display_data",
          "data": {
            "text/plain": [
              "<IPython.core.display.HTML object>"
            ],
            "text/html": [
              "Find logs at: <code>./wandb/run-20240216_122709-jy3ui222/logs</code>"
            ]
          },
          "metadata": {}
        },
        {
          "output_type": "display_data",
          "data": {
            "text/plain": [
              "<IPython.core.display.HTML object>"
            ],
            "text/html": [
              "Successfully finished last run (ID:jy3ui222). Initializing new run:<br/>"
            ]
          },
          "metadata": {}
        },
        {
          "output_type": "display_data",
          "data": {
            "text/plain": [
              "<IPython.core.display.HTML object>"
            ],
            "text/html": [
              "Tracking run with wandb version 0.16.3"
            ]
          },
          "metadata": {}
        },
        {
          "output_type": "display_data",
          "data": {
            "text/plain": [
              "<IPython.core.display.HTML object>"
            ],
            "text/html": [
              "Run data is saved locally in <code>/content/wandb/run-20240216_122828-262mm0jx</code>"
            ]
          },
          "metadata": {}
        },
        {
          "output_type": "display_data",
          "data": {
            "text/plain": [
              "<IPython.core.display.HTML object>"
            ],
            "text/html": [
              "Syncing run <strong><a href='https://wandb.ai/neuroscience_ai/W%26B_NoiseInvestigation/runs/262mm0jx' target=\"_blank\">abundant-wish-6</a></strong> to <a href='https://wandb.ai/neuroscience_ai/W%26B_NoiseInvestigation' target=\"_blank\">Weights & Biases</a> (<a href='https://wandb.me/run' target=\"_blank\">docs</a>)<br/>"
            ]
          },
          "metadata": {}
        },
        {
          "output_type": "display_data",
          "data": {
            "text/plain": [
              "<IPython.core.display.HTML object>"
            ],
            "text/html": [
              " View project at <a href='https://wandb.ai/neuroscience_ai/W%26B_NoiseInvestigation' target=\"_blank\">https://wandb.ai/neuroscience_ai/W%26B_NoiseInvestigation</a>"
            ]
          },
          "metadata": {}
        },
        {
          "output_type": "display_data",
          "data": {
            "text/plain": [
              "<IPython.core.display.HTML object>"
            ],
            "text/html": [
              " View run at <a href='https://wandb.ai/neuroscience_ai/W%26B_NoiseInvestigation/runs/262mm0jx' target=\"_blank\">https://wandb.ai/neuroscience_ai/W%26B_NoiseInvestigation/runs/262mm0jx</a>"
            ]
          },
          "metadata": {}
        }
      ]
    },
    {
      "cell_type": "code",
      "execution_count": 15,
      "metadata": {
        "id": "nOyTY0dE50vG",
        "colab": {
          "base_uri": "https://localhost:8080/"
        },
        "outputId": "16106af1-8602-4edb-c639-ca79f32380a3"
      },
      "outputs": [
        {
          "output_type": "stream",
          "name": "stdout",
          "text": [
            "Downloading http://yann.lecun.com/exdb/mnist/train-images-idx3-ubyte.gz\n",
            "Downloading http://yann.lecun.com/exdb/mnist/train-images-idx3-ubyte.gz to dataset/MNIST/raw/train-images-idx3-ubyte.gz\n"
          ]
        },
        {
          "output_type": "stream",
          "name": "stderr",
          "text": [
            "100%|██████████| 9912422/9912422 [00:00<00:00, 106930938.44it/s]\n"
          ]
        },
        {
          "output_type": "stream",
          "name": "stdout",
          "text": [
            "Extracting dataset/MNIST/raw/train-images-idx3-ubyte.gz to dataset/MNIST/raw\n",
            "\n",
            "Downloading http://yann.lecun.com/exdb/mnist/train-labels-idx1-ubyte.gz\n",
            "Downloading http://yann.lecun.com/exdb/mnist/train-labels-idx1-ubyte.gz to dataset/MNIST/raw/train-labels-idx1-ubyte.gz\n"
          ]
        },
        {
          "output_type": "stream",
          "name": "stderr",
          "text": [
            "100%|██████████| 28881/28881 [00:00<00:00, 28759661.40it/s]\n"
          ]
        },
        {
          "output_type": "stream",
          "name": "stdout",
          "text": [
            "Extracting dataset/MNIST/raw/train-labels-idx1-ubyte.gz to dataset/MNIST/raw\n",
            "\n",
            "Downloading http://yann.lecun.com/exdb/mnist/t10k-images-idx3-ubyte.gz\n",
            "Downloading http://yann.lecun.com/exdb/mnist/t10k-images-idx3-ubyte.gz to dataset/MNIST/raw/t10k-images-idx3-ubyte.gz\n"
          ]
        },
        {
          "output_type": "stream",
          "name": "stderr",
          "text": [
            "100%|██████████| 1648877/1648877 [00:00<00:00, 29102877.50it/s]\n"
          ]
        },
        {
          "output_type": "stream",
          "name": "stdout",
          "text": [
            "Extracting dataset/MNIST/raw/t10k-images-idx3-ubyte.gz to dataset/MNIST/raw\n",
            "\n",
            "Downloading http://yann.lecun.com/exdb/mnist/t10k-labels-idx1-ubyte.gz\n",
            "Downloading http://yann.lecun.com/exdb/mnist/t10k-labels-idx1-ubyte.gz to dataset/MNIST/raw/t10k-labels-idx1-ubyte.gz\n"
          ]
        },
        {
          "output_type": "stream",
          "name": "stderr",
          "text": [
            "100%|██████████| 4542/4542 [00:00<00:00, 6803760.27it/s]\n"
          ]
        },
        {
          "output_type": "stream",
          "name": "stdout",
          "text": [
            "Extracting dataset/MNIST/raw/t10k-labels-idx1-ubyte.gz to dataset/MNIST/raw\n",
            "\n"
          ]
        }
      ],
      "source": [
        "# /////////////////////# Building the Autoencoder\n",
        "#-------------------DataLoaders.  using the MNIST dataset\n",
        "\n",
        "# dataloader arguments\n",
        "batch_size = 250\n",
        "data_path='/data/mnist'\n",
        "\n",
        "dtype = torch.float\n",
        "device = torch.device(\"cuda\") if torch.cuda.is_available() else torch.device(\"cpu\")\n",
        "\n",
        "\n",
        "# /////////////////////////////////# Define a transform\n",
        "input_size = 32 # resizing the original MNIST from 28 to 32\n",
        "\n",
        "transform = transforms.Compose([\n",
        "            transforms.Resize((input_size, input_size)),\n",
        "            transforms.Grayscale(),\n",
        "            transforms.ToTensor(),\n",
        "            transforms.Normalize((0,), (1,))])\n",
        "\n",
        "# #------------------------------------------- Load MNIST\n",
        "# # Training data\n",
        "train_dataset = datasets.MNIST(root='dataset/', train=True, transform=transform, download=True)\n",
        "# train_loader = DataLoader(train_dataset, batch_size=batch_size, shuffle=True)\n",
        "\n",
        "# # Testing data\n",
        "test_dataset = datasets.MNIST(root='dataset/', train=False, transform=transform, download=True)\n",
        "# test_loader = DataLoader(test_dataset, batch_size=batch_size, shuffle=True)\n",
        "\n",
        "\n",
        "from torch.utils.data import Subset, DataLoader\n",
        "\n",
        "# Defining the fraction of the dataset to use (e.g., 0.1 for 10%)\n",
        "subset_fraction = 0.05\n",
        "\n",
        "# Calculate the number of samples to include in the subset\n",
        "subset_size = int(len(train_dataset) * subset_fraction)\n",
        "subset_size_test = int(len(test_dataset) * subset_fraction)\n",
        "\n",
        "# Create a subset of the training dataset\n",
        "subset_indices = torch.randperm(len(train_dataset))[:subset_size]\n",
        "train_subset = Subset(train_dataset, subset_indices)\n",
        "# Create DataLoader for the subset\n",
        "train_loader = DataLoader(train_subset, batch_size=batch_size, shuffle=True)\n",
        "\n",
        "# Similarly, create a subset of the test dataset if needed\n",
        "test_subset_indices = torch.randperm(len(test_dataset))[:subset_size]\n",
        "test_subset = Subset(test_dataset, test_subset_indices)\n",
        "test_loader = DataLoader(test_subset, batch_size=batch_size, shuffle=False)\n",
        "\n",
        "# Now, you can use train_loader_subset and test_loader_subset for training and testing\n",
        "\n",
        "\n"
      ]
    },
    {
      "cell_type": "code",
      "source": [],
      "metadata": {
        "id": "fqPKksVREeKG"
      },
      "execution_count": 15,
      "outputs": []
    },
    {
      "cell_type": "code",
      "execution_count": 16,
      "metadata": {
        "id": "Ha5yn2VjO39Q"
      },
      "outputs": [],
      "source": [
        "# creating directories where we can save the original and reconstructed images for training and testing:\n",
        "# create training/ and testing/ folders in the chosen path\n",
        "if not os.path.isdir('figures/training'):\n",
        "    os.makedirs('figures/training')\n",
        "if not os.path.isdir('figures/binarytraining'):\n",
        "    os.makedirs('figures/binarytraining')\n",
        "\n",
        "if not os.path.isdir('figures/testing'):\n",
        "    os.makedirs('figures/testing')\n",
        "if not os.path.isdir('figures/binarytesting'):\n",
        "    os.makedirs('figures/binarytesting')\n",
        "\n",
        "\n",
        "if not os.path.isdir('Saved_Trained_Checkpoints/'):\n",
        "    os.makedirs('Saved_Trained_Checkpoints/')\n",
        "\n",
        "if not os.path.isdir('Output_Spikes/'):\n",
        "    os.makedirs('Output_Spikes/')\n",
        "\n",
        "if not os.path.isdir('Enc_syn_Spikes/'):\n",
        "    os.makedirs('Enc_syn_Spikes/')\n",
        "\n",
        "\n",
        "if not os.path.isdir('Intermediate_Lyrs/'):\n",
        "    os.makedirs('Intermediate_Lyrs/')\n",
        "\n"
      ]
    },
    {
      "cell_type": "code",
      "execution_count": 17,
      "metadata": {
        "colab": {
          "base_uri": "https://localhost:8080/"
        },
        "id": "CcZMZrCoKFaq",
        "outputId": "77e7a71c-26ac-441d-f275-8f0d96c0f1b4"
      },
      "outputs": [
        {
          "output_type": "stream",
          "name": "stdout",
          "text": [
            "Using CPU\n"
          ]
        }
      ],
      "source": [
        "import torch\n",
        "\n",
        "if torch.cuda.is_available():\n",
        "    device = torch.device(\"cuda\")\n",
        "    print(f\"Using {torch.cuda.get_device_name()} ({device})\")\n",
        "else:\n",
        "    device = torch.device(\"cpu\")\n",
        "    print(\"Using CPU\")\n"
      ]
    },
    {
      "cell_type": "code",
      "source": [
        "\n",
        "class SAE(nn.Module):\n",
        "    def __init__(self):\n",
        "        super().__init__()\n",
        "\n",
        "\n",
        "        # Encoder\n",
        "        self.encoder = nn.Sequential(\n",
        "                            nn.Conv2d(1, 32, 3,padding = 1,stride=2), # Conv Layer 1\n",
        "                            nn.BatchNorm2d(32),\n",
        "                            snn.Leaky(beta=beta, spike_grad=spike_grad, init_hidden=True,threshold=thresh),\n",
        "                            nn.Conv2d(32, 64, 3,padding = 1,stride=2), # Conv Layer 2\n",
        "                            nn.BatchNorm2d(64),\n",
        "                            snn.Synaptic(alpha=alpha, beta=beta_syn, spike_grad=spike_grad, init_hidden=True, threshold=thresh), #SNN TORCH LIF NEURON\n",
        "                            nn.Conv2d(64, 128, 3,padding = 1,stride=2), # Conv Layer 3\n",
        "                            nn.BatchNorm2d(128),\n",
        "                            snn.Synaptic(alpha=alpha, beta=beta_syn, spike_grad=spike_grad, init_hidden=True,threshold=thresh), #SNN TORCH LIF NEURON\n",
        "                            nn.Flatten(start_dim = 1, end_dim = 3), #Flatten convolutional output\n",
        "                            nn.Linear(128*4*4, latent_dim), # Fully connected linear layer\n",
        "                            snn.Leaky(beta=beta, spike_grad=spike_grad, init_hidden=True, output=True,threshold=thresh)\n",
        "                            )\n",
        "\n",
        "\n",
        "        self.latent_dim = latent_dim #dimensions of the encoded z-space data\n",
        "        self.linearNet= nn.Sequential(\n",
        "                                      nn.Linear(latent_dim,128*4*4),\n",
        "                                      snn.Leaky(beta=beta, spike_grad=spike_grad, init_hidden=True, output=True,threshold=thresh))\n",
        "\n",
        "        # Decoder:\n",
        "        self.decoder = nn.Sequential(\n",
        "                            nn.Unflatten(1,(128,4,4)), #Unflatten data from 1 dim to tensor of 128 x 4 x 4\n",
        "                            snn.Leaky(beta=beta, spike_grad=spike_grad, init_hidden=True,threshold=thresh),\n",
        "                            nn.ConvTranspose2d(128, 64, 3,padding = 1,stride=(2,2),output_padding=1),\n",
        "                            nn.BatchNorm2d(64),\n",
        "                            snn.Synaptic(alpha=alpha, beta=beta_syn, spike_grad=spike_grad, init_hidden=True,threshold=thresh),\n",
        "                            nn.ConvTranspose2d(64, 32, 3,padding = 1,stride=(2,2),output_padding=1),\n",
        "                            nn.BatchNorm2d(32),\n",
        "                            snn.Synaptic(alpha=alpha, beta=beta_syn, spike_grad=spike_grad, init_hidden=True,threshold=thresh),\n",
        "                            nn.ConvTranspose2d(32, 1, 3,padding = 1,stride=(2,2),output_padding=1),\n",
        "                            snn.Leaky(beta=beta, spike_grad=spike_grad, init_hidden=True,output=True,threshold=20000) #so membrane can be trained\n",
        "                            )\n",
        "    def forward(self, x):\n",
        "        utils.reset(self.encoder) #need to reset the hidden states of LIF\n",
        "        utils.reset(self.decoder)\n",
        "        utils.reset(self.linearNet)\n",
        "\n",
        "    #-----------------------------encode\n",
        "        spk_mem=[];\n",
        "        spk_rec=[];\n",
        "        spk_rec_syn=[];\n",
        "        encoder_mem=[];\n",
        "        spk_rec_dec=[];\n",
        "        spk_mem_dec=[];\n",
        "        enc5_rec = [];\n",
        "\n",
        "\n",
        "     #------------------------------ intermediate layers\n",
        "\n",
        "        # for step in range(num_steps):\n",
        "        #     enc5 = self.encoder[5](x)             #  enc5 shape: torch.Size([250, 1, 32, 32])\n",
        "        #     enc5_rec.append(enc5)\n",
        "        # enc5_rec = torch.stack(enc5_rec, dim=2)            #   enc5_rec size: torch.Size([250, 1, 5, 32, 32])\n",
        "        # Enc_syn_1 = enc5_rec[:, :, -1]                      # #   torch.Size([250, 1, 32, 32])\n",
        "\n",
        "     #------------------------------ encode\n",
        "        for step in range(num_steps):\n",
        "            spk_x, mem_x = self.encoder(x)              # spk_x size: ([250, 32])  ,   mem_x size: ([250, 32])  , x.shape : torch.Size([250, 1, 32, 32])\n",
        "\n",
        "           #--------------------- Add noise to the membrane potential\n",
        "            # mem_x += torch.randn_like(mem_x) * std_dev\n",
        "            # spk_x += torch.randn_like(spk_x) * std_dev\n",
        "\n",
        "            # noise_level = 0.1  # Adjust the noise level\n",
        "            # spike_rate = noise_level * torch.ones_like(spk_x)  # Constant rate for Poisson distribution\n",
        "            # spk_x += torch.poisson(spike_rate)\n",
        "\n",
        "           #---------------------\n",
        "            spk_rec.append(spk_x)\n",
        "            spk_mem.append(mem_x)\n",
        "\n",
        "        spk_rec=torch.stack(spk_rec,dim=2) # stack spikes in second tensor dimension # ----------------spk_rec in torch.stack(spk_rec,dim=2):  torch.Size([250, 32, 5])\n",
        "        spk_mem=torch.stack(spk_mem,dim=2) # stack membranes in second tensor dimension # ----------------spk_mem in torch.stack(spk_mem,dim=2):  torch.Size([250, 32, 5])\n",
        "        out_en = spk_rec[...,step]\n",
        "\n",
        "        # print(\"out_en= spk_rec[...,step]:-----------\" , spk_rec[...,step].size()) # spk_rec[...,step]:----------- torch.Size([250, 32])       input of the latent and then decoder\n",
        "\n",
        "     #------------------------------decode\n",
        "        spk_mem2=[];\n",
        "        spk_rec2=[];\n",
        "        decoded_x=[];\n",
        "        spk_x_dec=[];\n",
        "        mem_x_dec=[];\n",
        "        for step in range(num_steps): #for t in time                           #        from decoder: ([250, 1, 32, 32])\n",
        "            x_recon, x_mem_recon = self.decode(spk_rec[...,step])\n",
        "            spk_rec2.append(x_recon)\n",
        "            spk_mem2.append(x_mem_recon)\n",
        "\n",
        "        spk_rec2=torch.stack(spk_rec2,dim=4)\n",
        "        spk_mem2=torch.stack(spk_mem2,dim=4)\n",
        "\n",
        "        out = spk_mem2[:,:,:,:,-1]\n",
        "\n",
        "        self.out_en = out_en\n",
        "        self.out = out\n",
        "\n",
        "        return out, out_en\n",
        "        # return out, Enc_syn_1\n",
        "\n",
        "\n",
        "    #     # Initialize Gaussian noise parameters\n",
        "    #     self.noise_mean = 0.0\n",
        "    #     self.noise_std = 0.1  # Adjust the standard deviation as needed\n",
        "\n",
        "\n",
        "    # def add_noise(self, layer):\n",
        "    #     if isinstance(layer, snn.Synaptic):\n",
        "    #         # Add Gaussian noise to synaptic conductance values\n",
        "    #         with torch.no_grad():\n",
        "    #             layer.weight.data += torch.randn_like(layer.weight.data) * self.noise_std + self.noise_mean\n",
        "\n",
        "\n",
        "\n",
        "\n",
        "    def encode(self,x):\n",
        "      spk_latent_x, mem_latent_x = self.encoder(x)\n",
        "      return spk_latent_x, mem_latent_x\n",
        "\n",
        "\n",
        "    def decode(self,x):\n",
        "        spk_x, mem_x = self.linearNet(x) #convert latent dimension back to total size of features in encoder final layer\n",
        "        spk_x2, mem_x2 = self.decoder(spk_x)\n",
        "        return spk_x2, mem_x2\n",
        "\n"
      ],
      "metadata": {
        "id": "U_D8NuZnxpXG"
      },
      "execution_count": 18,
      "outputs": []
    },
    {
      "cell_type": "code",
      "source": [
        "import numpy as np\n",
        "\n",
        "def calculate_pixel_accuracy(real_img, x_recon):\n",
        "    # Flatten the tensors and convert them to NumPy arrays\n",
        "    real_img_np = real_img.flatten().cpu().numpy()\n",
        "    x_recon_np = x_recon.flatten().detach().cpu().numpy()\n",
        "\n",
        "    # Calculate pixel-wise similarity\n",
        "    pixel_accuracy = 1 - np.mean(np.abs(x_recon_np - real_img_np))\n",
        "\n",
        "    return pixel_accuracy\n"
      ],
      "metadata": {
        "id": "9KUjzmarbSvT"
      },
      "execution_count": 19,
      "outputs": []
    },
    {
      "cell_type": "code",
      "source": [
        "# Training and Testing\n",
        "# using MSE loss to compare the reconstructed image (x_recon) with the original image (real_img)\n",
        "from torchvision.utils import save_image\n",
        "\n",
        "spike_recordings = []\n",
        "train_ber_rec = []\n",
        "test_ber_rec = []\n",
        "threshold_Real = 0.5\n",
        "threshold_Recon = 0.5\n",
        "\n",
        "\n",
        "def train(network, trainloader, opti, epoch, std_dev):\n",
        "    # Tell wandb to watch what the model gets up to: gradients, weights, and more!\n",
        "    wandb.watch(network, log=\"all\", log_freq=10)\n",
        "\n",
        "    network=network.train()\n",
        "    train_loss_hist=torch.zeros((1), dtype=dtype, device=device)\n",
        "    train_avg_loss_rec=[]\n",
        "    train_loss_rec = []\n",
        "    train_accuracy = []  # Define train_accuracy list\n",
        "\n",
        "    for batch_idx, (real_img, labels) in enumerate(trainloader):\n",
        "        opti.zero_grad()\n",
        "        real_img = real_img.to(device)\n",
        "        labels = labels.to(device)\n",
        "\n",
        "        # -------------Add Gaussian noise to the input images\n",
        "        real_img = real_img + torch.randn_like(real_img) * std_dev\n",
        "\n",
        "        # noise_level = 0.9  # Adjust the noise level\n",
        "        # real_img = noise_level * torch.ones_like(real_img)  # Constant rate for Poisson distribution\n",
        "        # real_img += torch.poisson(real_img)\n",
        "\n",
        "        out, out_en = network(real_img)   # Pass data into network and return reconstructed image and spk_rec\n",
        "        x_recon, out = network(real_img)  # Pass data into network and return reconstructed image and spk_rec.  #  x_recon size torch.Size([250, 1, 32, 32]) ,  # out size torch.Size([250, 32])\n",
        "\n",
        "        # ---------------------------------\n",
        "\n",
        "        #Calculate loss\n",
        "        loss_val = torch.zeros((1), dtype=dtype, device=device)\n",
        "        for step in range(num_steps):\n",
        "          loss_val += F.mse_loss(x_recon, real_img)                  #.view(1, -1)\n",
        "        train_loss_hist += (loss_val.item())/num_steps\n",
        "        avg_loss=train_loss_hist.mean()\n",
        "\n",
        "        # # ---------------------------- Calculate Bit Error Rate (BER)\n",
        "        real_img_binary = (real_img > threshold_Real).float()\n",
        "        x_recon_binary = (x_recon > threshold_Recon).float()\n",
        "        bit_errors = torch.sum(torch.abs(real_img_binary - x_recon_binary))\n",
        "        total_pixels = real_img_binary.numel()  # Total number of pixels in the images\n",
        "        bit_error_rate = bit_errors.item() / total_pixels\n",
        "        train_ber_rec.append(bit_error_rate)  # Append BER to the list\n",
        "\n",
        "        # # --------------------------------- Calculate Accuracy------------\n",
        "        # # # accuracy = accuracy_score(real_img.flatten().cpu().numpy(), x_recon.flatten().detach().cpu().numpy())\n",
        "        train_accuracy_pix = calculate_pixel_accuracy(real_img, x_recon)\n",
        "        train_accuracy.append(train_accuracy_pix.item())\n",
        "\n",
        "         # # -----------------------------------------------------------------\n",
        "        loss_val.backward()\n",
        "        opti.step()\n",
        "        train_loss_rec.append(loss_val.item())\n",
        "# ------------------------------------------------------------------\n",
        "        # Save binary images\n",
        "        Error_bin = (torch.abs(x_recon_binary - real_img_binary))\n",
        "\n",
        "        if batch_idx == len(trainloader)-1:\n",
        "          if epoch in [0, 25, 49]:\n",
        "            utls.save_image(real_img_binary, f'figures/binarytraining/ep{epoch}_inputs_binary.png')\n",
        "            utls.save_image(x_recon_binary, f'figures/binarytraining/ep{epoch}_recon_binary.png')\n",
        "            utls.save_image(Error_bin, f'figures/binarytraining/ep{epoch}_Error_bin.png')\n",
        "\n",
        "        # Logging for wandb\n",
        "        if (batch_idx + 1) % 10 == 0:\n",
        "          wandb.log({\"Epoch\": epoch, \"Batch\": batch_idx, \"Loss\": loss_val.item(), \"BER\": bit_error_rate, \"Accuracy\": train_accuracy_pix* 100})\n",
        "\n",
        "\n",
        "\n",
        "        print(f'Std_dev:{std_dev}------  Train__[{epoch}/{max_epoch}][{batch_idx}/{len(trainloader)}] Loss: {loss_val.item():.5f}, ' f'BER: {bit_error_rate:.5f}, Accuracy: {train_accuracy_pix*100:.4f}%')\n",
        "\n",
        "\n",
        "        #Save reconstructed images every at the end of the epoch\n",
        "        if batch_idx == len(trainloader)-1:\n",
        "          if epoch in [0, 10, 25, 49]:\n",
        "            utls.save_image((real_img+1)/2, f'figures/training/epoch{epoch}_finalbatch_inputs.png')\n",
        "            utls.save_image((x_recon+1)/2, f'figures/training/epoch{epoch}_finalbatch_recon.png')\n",
        "            train_auc = auc(np.arange(len(train_loss_rec)), train_loss_rec)\n",
        "\n",
        "\n",
        "    # Compute average accuracy for the entire epoch\n",
        "    epoch_accuracy = sum(train_accuracy) / len(train_accuracy)\n",
        "    epoch_loss = sum(train_loss_rec) / len(train_loss_rec)\n",
        "    print(f'----------------Epoch{{epoch}/{max_epoch}} Train set ---------------')\n",
        "    print(f'Std_dev:{std_dev}---- Epoch [{epoch}/{max_epoch}] Average loss (epoch): {epoch_loss:.5f}, Average Accuracy (epoch): {epoch_accuracy*100:.4f}%')\n",
        "    print('-------------------------------------')\n",
        "    wandb.log({\"Epoch\": epoch, \"Average Loss (Epoch)\": epoch_loss, \"Average Accuracy (Epoch)\": epoch_accuracy * 100})\n",
        "\n",
        "    return loss_val, train_loss_rec, train_accuracy, epoch_loss, epoch_accuracy, out, out_en      # train_accuracy, epoch_accuracy, noisy_out_en -----------------added\n",
        "\n",
        "\n",
        "# For Testing, not doing backpropagate, therefore no gradients are required and we use torch.no_grad():\n",
        "#Testing Loop\n",
        "def test(network, testloader, opti, epoch, std_dev):\n",
        "    network=network.eval()\n",
        "    test_loss_hist=[]\n",
        "    test_avg_loss_rec=[]\n",
        "    test_avg_loss_hist = []\n",
        "    test_accuracy = []  # Define test_accuracy list\n",
        "\n",
        "    spk_rec_test = []\n",
        "    with torch.no_grad(): #no gradient this time\n",
        "        for batch_idx, (real_img, labels) in enumerate(testloader):\n",
        "            real_img = real_img.to(device)#\n",
        "            labels = labels.to(device)\n",
        "            out, out_en = network(real_img)  # Pass data into network and return reconstructed image and spk_rec\n",
        "            x_recon , out = network(real_img)  # Pass data into network and return reconstructed image and spk_rec\n",
        "            #------------------------------------------------------average Loss:\n",
        "            loss_val = torch.zeros((1), dtype=dtype, device=device)\n",
        "            for step in range(num_steps):\n",
        "              loss_val += F.mse_loss(x_recon, real_img)\n",
        "            avg_loss=loss_val/num_steps\n",
        "            test_loss_hist.append(loss_val.item())\n",
        "          # --------------------------------------------------------BER---------\n",
        "            real_img_binary = (real_img > threshold_Real).float()\n",
        "            x_recon_binary = (x_recon > threshold_Recon).float()\n",
        "            bit_errors = torch.sum(torch.abs(real_img_binary - x_recon_binary))\n",
        "            total_pixels = real_img_binary.numel()  # Total number of pixels in the images\n",
        "            bit_error_rate = bit_errors.item() / total_pixels\n",
        "            test_ber_rec.append(bit_error_rate)  # Append BER to the list\n",
        "\n",
        "            # #----------------------------------------------------- Calculate accuracy\n",
        "            # # # accuracy = accuracy_score(real_img.flatten().cpu().numpy(), x_recon.flatten().detach().cpu().numpy())\n",
        "            test_accuracy_pix = calculate_pixel_accuracy(real_img, x_recon)\n",
        "            test_accuracy.append(test_accuracy_pix.item())  # Record accuracy\n",
        "\n",
        "            # ----------------------------------------------------------------\n",
        "            # Save binary images\n",
        "            Error_bin = (torch.abs(x_recon_binary - real_img_binary))\n",
        "\n",
        "            if batch_idx == len(testloader)-1:\n",
        "              if epoch in [0, 25, 49]:\n",
        "                save_image(real_img_binary, f'figures/binarytesting/ep{epoch}_inputs_binary.png')\n",
        "                save_image(x_recon_binary, f'figures/binarytesting/ep{epoch}_recon_binary.png')\n",
        "                save_image(Error_bin, f'figures/binarytesting/ep{epoch}_Error_bin.png')\n",
        "            # -------------------------------------------------------------------------------------------------\n",
        "\n",
        "            print(f'Std_dev:{std_dev}--- Test[{epoch}/{max_epoch}][{batch_idx}/{len(testloader)}]  Loss(test): {loss_val.item():.5f}, '  f'BER (test): {bit_error_rate:.5f},  Accuracy(test): {test_accuracy_pix*100:.4f}%')\n",
        "            test_loss_rec.append(loss_val.item())\n",
        "\n",
        "            if batch_idx == len(testloader)-1:\n",
        "              if epoch in [0, 10, 25, 49]:\n",
        "                utls.save_image((real_img+1)/2, f'figures/testing/epoch{epoch}_finalbatch_inputs.png')\n",
        "                utls.save_image((real_img+(torch.randn_like(real_img) * std_dev)+1)/2, f'figures/testing/(real_img+noise)_epoch{epoch}_finalbatch_inputs.png')\n",
        "                utls.save_image((x_recon+1)/2, f'figures/testing/epoch{epoch}_finalbatch_recons.png')\n",
        "                test_auc = auc(np.arange(len(test_loss_rec)), test_loss_rec)\n",
        "\n",
        "            # Logging for wandb\n",
        "            if (batch_idx + 1) % 10 == 0:\n",
        "              wandb.log({\"Epoch\": epoch, \"Batch\": batch_idx, \"Loss(test)\": loss_val.item(), \"BER(test)\": bit_error_rate, \"Accuracy(test)\": test_accuracy_pix* 100})\n",
        "\n",
        "\n",
        "    # Compute average accuracy for the entire epoch\n",
        "    epoch_accuracy_test = sum(test_accuracy) / len(test_accuracy)\n",
        "    epoch_loss_test = sum(test_loss_hist) / len(test_loss_hist)\n",
        "    print(f'----------------Epoch{{epoch}/{max_epoch}} Test set ---------------')\n",
        "    print(f'Std_dev:{std_dev}------Epoch [{epoch}/{max_epoch}] Average loss_test (epoch): {epoch_loss_test:.5f}, Average Accuracy_test (epoch): {epoch_accuracy_test*100:.4f}%')\n",
        "    print('-----------------------------------------------------------------------------------------')\n",
        "\n",
        "    wandb.log({\"Epoch\": epoch, \"Average Loss_test (Epoch)\": epoch_loss_test, \"Average Accuracy_test (Epoch)\": epoch_accuracy_test * 100})\n",
        "\n",
        "\n",
        "    return loss_val, test_loss_rec, test_accuracy, epoch_loss_test, epoch_accuracy_test, out, out_en     # ------------------------------------- noisy_out_en  , test_accuracy ------------------ADDED\n",
        "    # return loss_val, test_loss_rec, test_auc, out, out_en\n",
        "    # return loss_val, test_loss_rec, test_auc  #\n",
        "\n",
        "for batch_spikes in spike_recordings:\n",
        "    print(batch_spikes)\n"
      ],
      "metadata": {
        "id": "RIHygvQ_TZQA"
      },
      "execution_count": 20,
      "outputs": []
    },
    {
      "cell_type": "code",
      "execution_count": 20,
      "metadata": {
        "id": "5HbcSNNp6vK2"
      },
      "outputs": [],
      "source": []
    },
    {
      "cell_type": "code",
      "execution_count": 21,
      "metadata": {
        "id": "lF2cwM20PKAL"
      },
      "outputs": [],
      "source": [
        "input_size = 32 #resize of mnist data (optional)\n",
        "\n",
        "#setup GPU\n",
        "dtype = torch.float\n",
        "device = torch.device(\"cuda\") if torch.cuda.is_available() else torch.device(\"cpu\")\n",
        "\n",
        "# neuron and simulation parameters\n",
        "spike_grad = surrogate.atan(alpha=2.0)  # alternate surrogate gradient fast_sigmoid(slope=25)\n",
        "\n",
        "train_loss_rec = []\n",
        "test_loss_rec = []\n",
        "train_loss_record = []\n",
        "test_loss_record = []\n",
        "train_avg_loss_rec=[]\n",
        "test_avg_loss_rec=[]\n",
        "\n",
        "  # Synaptic current and membrane potential decay exponentially with rates of alpha and beta\n",
        "alpha=0.9\n",
        "beta_syn=0.0001\n",
        "# beta_syn=0.9\n",
        "beta =0.9\n",
        "\n",
        "num_steps=5\n",
        "latent_dim = 32 #dimension of latent layer (how compressed we want the information)\n",
        "thresh=1    #spiking threshold (lower = more spikes are let through)\n",
        "epochs=5\n",
        "max_epoch=epochs\n",
        "\n",
        "lr=0.0001\n",
        "betas=(0.9, 0.999)\n",
        "weight_decay=0.001\n",
        "\n",
        "#-------------------Define Network and optimizer\n",
        "net=SAE()\n",
        "net = net.to(device)\n",
        "\n",
        "optimizer = torch.optim.AdamW(net.parameters(),\n",
        "                            lr=lr,\n",
        "                            betas=betas,\n",
        "                            weight_decay=weight_decay)\n",
        "\n",
        "\n",
        "\n",
        "activation = {}\n",
        "# def get_activation(name):\n",
        "#     def hook(model, input, output):\n",
        "#         activation[name] = output.detach()\n",
        "#     return hook\n",
        "\n",
        "\n",
        "def get_activation(name):\n",
        "    def hook(model, input, output):\n",
        "        if isinstance(output, tuple):\n",
        "            activation[name] = [out.detach() for out in output]\n",
        "        else:\n",
        "            activation[name] = output.detach()\n",
        "    return hook\n",
        "\n",
        "\n",
        "# net.encoder[5].register_forward_hook(get_activation('encoder[5]'))\n",
        "\n",
        "\n",
        "checkpoint_path = \"Saved_Trained_Checkpoints/\"\n",
        "Output_Spikes = \"Output_Spikes/\"\n",
        "Enc_syn_Spikes = \"Enc_syn_Spikes/\"\n",
        "Intermediate_Lyrs = \"Intermediate_Lyrs/\"\n",
        "epoch_activations_list = [] # Create a list to store activations for each epoch\n",
        "epoch_activations = {}\n",
        "\n",
        "\n",
        "# ///////////////////////////////////\n",
        "\n",
        "# Define hook_layers and hook_names\n",
        "hook_layers = [net.encoder[2], net.encoder[5], net.encoder[8], net.encoder[11], net.decoder[1], net.decoder[4], net.decoder[7], net.decoder[9]]\n",
        "hook_names = [\"Enc_Lk1\", \"Enc_syn1\", \"Enc_syn2\", \"Enc_Lk2\", \"Dec_Lk1\", \"Dec_syn1\", \"Dec_syn2\", \"Dec_Lk2\"]\n",
        "\n",
        "# Create an empty dictionary to store activations\n",
        "epoch_activations = {}\n",
        "\n",
        "# Register hooks for capturing activations\n",
        "hooks = []\n",
        "for i, layer in enumerate(hook_layers):\n",
        "    hook_fn = get_activation(hook_names[i])\n",
        "    hooks.append(layer.register_forward_hook(hook_fn))\n",
        "# ----------------------------------------------------------------\n"
      ]
    },
    {
      "cell_type": "markdown",
      "source": [
        "### Grid Search method"
      ],
      "metadata": {
        "id": "XmRLbjbPqB37"
      }
    },
    {
      "cell_type": "code",
      "source": [
        "import os\n",
        "\n",
        "# Define the range of std_dev values to explore\n",
        "stddev_num_intervals = 11  # Adjust the number of intervals as needed\n",
        "std_dev_range = np.linspace(0, 1, stddev_num_intervals)  # Generate values from 0 to 0.2 with stddev_num_intervals intervals\n",
        "\n",
        "\n",
        "best_std_dev = None\n",
        "best_loss = float('inf')\n",
        "best_accuracy = 0\n",
        "best_train_loss = float('inf')\n",
        "best_train_accuracy = 0\n",
        "# Lists to store metrics\n",
        "std_dev_values = []\n",
        "train_losses = []\n",
        "test_losses = []\n",
        "train_accuracies = []\n",
        "test_accuracies = []\n",
        "\n",
        "# Number of grid search iterations\n",
        "num_iterations = stddev_num_intervals  # One iteration per std_dev value\n",
        "\n",
        "for std_dev in std_dev_range:\n",
        "    # Reset network and optimizer for each std_dev value\n",
        "    net = SAE().to(device)\n",
        "    optimizer = torch.optim.AdamW(net.parameters(), lr=0.0001, betas=(0.9, 0.999), weight_decay=0.001)\n",
        "\n",
        "    # Create a folder to save intermediate layers for the current std_dev\n",
        "    intermediate_layers_dir = f\"Intermediate_Lyrs/std_dev_{std_dev}\"\n",
        "    os.makedirs(intermediate_layers_dir, exist_ok=True)\n",
        "    print('\\n--------------------------------------This shows the std_dev has been changed --------------------------------------\\n')\n",
        "\n",
        "    # Run training and testing\n",
        "    for e in range(epochs):\n",
        "        train_loss, train_loss_rec, train_accuracy, epoch_loss, epoch_accuracy, out, out_en = train(net, train_loader, optimizer, e, std_dev)\n",
        "        # train_avg_loss_rec.append(sum(train_loss_rec) / len(train_loader))\n",
        "\n",
        "        test_loss, test_loss_rec, test_accuracy, epoch_loss_test, epoch_accuracy_test, out, out_en = test(net, test_loader, optimizer, e, std_dev)\n",
        "        # print('-------------------')\n",
        "        # print('test_loss: ', test_loss)\n",
        "        # print('test_loss.item(): ', test_loss.item())\n",
        "        # print('test_accuracy[-1]: ', test_accuracy[-1])\n",
        "        # # print('epoch_loss_test: ', epoch_loss_test)\n",
        "        # # print('epoch_accuracy_test: ', epoch_accuracy_test)\n",
        "        # print('-------------------')\n",
        "\n",
        "        # Save intermediate layers every 10 epochs\n",
        "        if (e + 1) % 10 == 0:\n",
        "            activations_path = f\"{intermediate_layers_dir}/activations_epoch_{e + 1}.pkl\"\n",
        "            with open(activations_path, 'wb') as file:\n",
        "                pickle.dump(epoch_activations, file)\n",
        "\n",
        "    # Evaluate performance with the current std_dev based on the last epoch\n",
        "    print('test_loss.item():', test_loss.item())\n",
        "    print('best_loss:',best_loss)\n",
        "    print('test_accuracy[-1]:', test_accuracy[-1])\n",
        "    print('best_accuracy:', best_accuracy)\n",
        "    # print('best_accuracy[-1]:', best_accuracy[-1])\n",
        "\n",
        "    # Record metrics\n",
        "    std_dev_values.append(std_dev)\n",
        "    train_losses.append(train_loss.item())\n",
        "    test_losses.append(test_loss.item())\n",
        "    train_accuracies.append(train_accuracy[-1])\n",
        "    test_accuracies.append(test_accuracy[-1])\n",
        "\n",
        "    if test_loss.item() < best_loss and test_accuracy[-1] > best_accuracy:\n",
        "      best_std_dev = std_dev\n",
        "      best_loss = test_loss.item()\n",
        "      best_accuracy = test_accuracy[-1]\n",
        "      best_train_loss = train_loss.item()\n",
        "      best_train_accuracy = train_accuracy[-1]\n",
        "\n",
        "    print('---------------------------------------------------------------------------------------\\n')\n",
        "    # print(f\"std_dev={std_dev}, train_loss= {train_loss:.4f}, test_loss= {test_loss:.4f}, train_accuracy= {train_accuracy:.4f}%, test_accuracy= {test_accuracy:.4f}%\")\n",
        "    print(f\"std_dev={std_dev}-------, train_loss= {train_loss.item():.4f} , test_loss= {test_loss.item():.4f}, train_accuracy= {train_accuracy[-1]*100:.4f}%, test_accuracy= {test_accuracy[-1]*100:.4f}%\")\n",
        "    print('---------------------------------------------------------------------------------------\\n')\n",
        "\n",
        "\n",
        "print('\\\\\\\\\\\\\\\\\\\\\\\\\\\\\\\\\\\\\\\\\\\\\\\\\\\\\\\\\\\\\\\\\\\\\\\\\\\\\\\\\\\\\\\\\\\\\\\\\\\\\\\\\\\\\\\\\\\\\\\\\\\\\\\\\\\\\\\\\\\\\\\\\\\\\\\\\\\\\\\\\\\\\\\\\\\\\\\\\\\\\\\\\\\\\\\\\\\\\\\\\\\\\\\\\\\\\\\\\\\\\\\\\\\\\\\\\\\\\\\\\\\\\\\\\\\\\\\\\\\\\\\\\\\\\\\\\\\\\\\\\\n')\n",
        "print(f\"Best std_dev: {best_std_dev}, Best train_loss: {best_train_loss:.4f}, Best test_loss: {best_loss:.4f}, Best train_accuracy: {best_train_accuracy*100:.4f}%, Best test_accuracy: {best_accuracy*100:.4f}%\")\n",
        "print('\\\\\\\\\\\\\\\\\\\\\\\\\\\\\\\\\\\\\\\\\\\\\\\\\\\\\\\\\\\\\\\\\\\\\\\\\\\\\\\\\\\\\\\\\\\\\\\\\\\\\\\\\\\\\\\\\\\\\\\\\\\\\\\\\\\\\\\\\\\\\\\\\\\\\\\\\\\\\\\\\\\\\\\\\\\\\\\\\\\\\\\\\\\\\\\\\\\\\\\\\\\\\\\\\\\\\\\\\\\\\\\\\\\\\\\\\\\\\\\\\\\\\\\\\\\\\\\\\\\\\\\\\\\\\\\\\\\\\\\\\\n')\n",
        "\n",
        "\n",
        "# ----------------------------------------------------------------------------------Plotting the results\n",
        "plt.figure(figsize=(12, 6))\n",
        "# fig, axs = plt.subplots(2, 1, figsize=(6, 12))\n",
        "font_size = 15\n",
        "font = {'weight': 'bold', 'size': 22}\n",
        "# Loss plot\n",
        "plt.subplot(1, 2, 1)\n",
        "plt.plot(std_dev_values, train_losses, label='Train Loss')\n",
        "plt.plot(std_dev_values, test_losses, label='Test Loss')\n",
        "plt.xlabel('std_dev', fontweight=\"bold\", fontdict=font)\n",
        "plt.ylabel('Loss', fontweight=\"bold\", fontdict=font)\n",
        "plt.title('Loss vs. std_dev', fontweight=\"bold\", fontdict=font)\n",
        "plt.tick_params(labelsize=font_size)\n",
        "plt.legend(fontsize='large')\n",
        "\n",
        "# Accuracy plot\n",
        "plt.subplot(1, 2, 2)\n",
        "plt.plot(std_dev_values, train_accuracies, label='Train Accuracy')\n",
        "plt.plot(std_dev_values, test_accuracies, label='Test Accuracy')\n",
        "plt.xlabel('std_dev', fontweight=\"bold\", fontdict=font)\n",
        "plt.ylabel('Accuracy (%)', fontweight=\"bold\", fontdict=font)\n",
        "plt.title('Accuracy vs. std_dev', fontweight=\"bold\", fontdict=font)\n",
        "plt.tick_params(labelsize=font_size)\n",
        "plt.gca().yaxis.set_major_formatter(mtick.PercentFormatter())  # Format y-axis as percentage\n",
        "plt.legend(fontsize='large')\n",
        "\n",
        "plt.tight_layout()\n",
        "plt.show()\n"
      ],
      "metadata": {
        "colab": {
          "base_uri": "https://localhost:8080/",
          "height": 1000
        },
        "id": "5MwVoX24qAW4",
        "outputId": "1a718895-5a22-4016-a120-5aa7125f7f0e"
      },
      "execution_count": 22,
      "outputs": [
        {
          "output_type": "stream",
          "name": "stdout",
          "text": [
            "\n",
            "--------------------------------------This shows the std_dev has been changed --------------------------------------\n",
            "\n",
            "Std_dev:0.0------  Train__[0/5][0/5] Loss: 1.06137, BER: 0.13541, Accuracy: 55.1122%\n",
            "Std_dev:0.0------  Train__[0/5][1/5] Loss: 1.06052, BER: 0.12634, Accuracy: 55.1247%\n",
            "Std_dev:0.0------  Train__[0/5][2/5] Loss: 1.05872, BER: 0.12889, Accuracy: 55.1588%\n",
            "Std_dev:0.0------  Train__[0/5][3/5] Loss: 1.05803, BER: 0.12910, Accuracy: 55.1733%\n",
            "Std_dev:0.0------  Train__[0/5][4/5] Loss: 1.05715, BER: 0.12752, Accuracy: 55.1822%\n",
            "--------------- Train ---------------\n",
            "Std_dev:0.0---- Epoch [0/5] Average loss (epoch): 1.05916, Average Accuracy (epoch): 55.1502%\n",
            "-------------------------------------\n",
            "Std_dev:0.0--- Test[0/5][0/5]  Loss(test): 1.05606, BER (test): 0.13297,  Accuracy(test): 55.2089%\n",
            "Std_dev:0.0--- Test[0/5][1/5]  Loss(test): 1.05584, BER (test): 0.13613,  Accuracy(test): 55.2127%\n",
            "Std_dev:0.0--- Test[0/5][2/5]  Loss(test): 1.05711, BER (test): 0.13358,  Accuracy(test): 55.1724%\n",
            "Std_dev:0.0--- Test[0/5][3/5]  Loss(test): 1.05452, BER (test): 0.13129,  Accuracy(test): 55.2496%\n",
            "Std_dev:0.0--- Test[0/5][4/5]  Loss(test): 1.05562, BER (test): 0.13675,  Accuracy(test): 55.2165%\n",
            "---------------- Test ---------------\n",
            "Std_dev:0.0------Epoch [0/5] Average loss_test (epoch): 1.05583, Average Accuracy_test (epoch): 55.2120%\n",
            "-----------------------------------------------------------------------------------------\n",
            "Std_dev:0.0------  Train__[1/5][0/5] Loss: 1.05657, BER: 0.12829, Accuracy: 55.1913%\n",
            "Std_dev:0.0------  Train__[1/5][1/5] Loss: 1.05105, BER: 0.12776, Accuracy: 55.3380%\n",
            "Std_dev:0.0------  Train__[1/5][2/5] Loss: 1.05292, BER: 0.12973, Accuracy: 55.2678%\n",
            "Std_dev:0.0------  Train__[1/5][3/5] Loss: 1.04917, BER: 0.13158, Accuracy: 55.3651%\n",
            "Std_dev:0.0------  Train__[1/5][4/5] Loss: 1.04949, BER: 0.13049, Accuracy: 55.3452%\n",
            "--------------- Train ---------------\n",
            "Std_dev:0.0---- Epoch [1/5] Average loss (epoch): 1.05184, Average Accuracy (epoch): 55.3015%\n",
            "-------------------------------------\n",
            "Std_dev:0.0--- Test[1/5][0/5]  Loss(test): 1.04883, BER (test): 0.13297,  Accuracy(test): 55.3585%\n",
            "Std_dev:0.0--- Test[1/5][1/5]  Loss(test): 1.04868, BER (test): 0.13613,  Accuracy(test): 55.3610%\n",
            "Std_dev:0.0--- Test[1/5][2/5]  Loss(test): 1.04989, BER (test): 0.13358,  Accuracy(test): 55.3217%\n",
            "Std_dev:0.0--- Test[1/5][3/5]  Loss(test): 1.04725, BER (test): 0.13129,  Accuracy(test): 55.3999%\n",
            "Std_dev:0.0--- Test[1/5][4/5]  Loss(test): 1.04846, BER (test): 0.13675,  Accuracy(test): 55.3645%\n",
            "---------------- Test ---------------\n",
            "Std_dev:0.0------Epoch [1/5] Average loss_test (epoch): 1.04862, Average Accuracy_test (epoch): 55.3611%\n",
            "-----------------------------------------------------------------------------------------\n",
            "Std_dev:0.0------  Train__[2/5][0/5] Loss: 1.04425, BER: 0.13144, Accuracy: 55.4926%\n",
            "Std_dev:0.0------  Train__[2/5][1/5] Loss: 1.04825, BER: 0.13026, Accuracy: 55.3601%\n",
            "Std_dev:0.0------  Train__[2/5][2/5] Loss: 1.05489, BER: 0.12390, Accuracy: 55.3388%\n",
            "Std_dev:0.0------  Train__[2/5][3/5] Loss: 1.05845, BER: 0.12583, Accuracy: 55.3042%\n",
            "Std_dev:0.0------  Train__[2/5][4/5] Loss: 1.08386, BER: 0.14135, Accuracy: 55.1973%\n",
            "--------------- Train ---------------\n",
            "Std_dev:0.0---- Epoch [2/5] Average loss (epoch): 1.05794, Average Accuracy (epoch): 55.3386%\n",
            "-------------------------------------\n",
            "Std_dev:0.0--- Test[2/5][0/5]  Loss(test): 2.45615, BER (test): 0.20744,  Accuracy(test): 43.4005%\n",
            "Std_dev:0.0--- Test[2/5][1/5]  Loss(test): 2.53915, BER (test): 0.21546,  Accuracy(test): 42.7269%\n",
            "Std_dev:0.0--- Test[2/5][2/5]  Loss(test): 2.42766, BER (test): 0.20713,  Accuracy(test): 43.6923%\n",
            "Std_dev:0.0--- Test[2/5][3/5]  Loss(test): 2.43441, BER (test): 0.20905,  Accuracy(test): 43.6814%\n",
            "Std_dev:0.0--- Test[2/5][4/5]  Loss(test): 2.56608, BER (test): 0.21930,  Accuracy(test): 42.5165%\n",
            "---------------- Test ---------------\n",
            "Std_dev:0.0------Epoch [2/5] Average loss_test (epoch): 2.48469, Average Accuracy_test (epoch): 43.2035%\n",
            "-----------------------------------------------------------------------------------------\n",
            "Std_dev:0.0------  Train__[3/5][0/5] Loss: 1.14619, BER: 0.13223, Accuracy: 54.6100%\n",
            "Std_dev:0.0------  Train__[3/5][1/5] Loss: 1.31755, BER: 0.14672, Accuracy: 53.0696%\n",
            "Std_dev:0.0------  Train__[3/5][2/5] Loss: 1.55203, BER: 0.16596, Accuracy: 51.0697%\n",
            "Std_dev:0.0------  Train__[3/5][3/5] Loss: 1.61067, BER: 0.17602, Accuracy: 50.4850%\n",
            "Std_dev:0.0------  Train__[3/5][4/5] Loss: 1.72691, BER: 0.19362, Accuracy: 49.6276%\n",
            "--------------- Train ---------------\n",
            "Std_dev:0.0---- Epoch [3/5] Average loss (epoch): 1.47067, Average Accuracy (epoch): 51.7724%\n",
            "-------------------------------------\n",
            "Std_dev:0.0--- Test[3/5][0/5]  Loss(test): 3.89669, BER (test): 0.35945,  Accuracy(test): 31.4357%\n",
            "Std_dev:0.0--- Test[3/5][1/5]  Loss(test): 3.94574, BER (test): 0.36374,  Accuracy(test): 30.9864%\n",
            "Std_dev:0.0--- Test[3/5][2/5]  Loss(test): 3.80389, BER (test): 0.35213,  Accuracy(test): 32.1211%\n",
            "Std_dev:0.0--- Test[3/5][3/5]  Loss(test): 3.87730, BER (test): 0.36064,  Accuracy(test): 31.5126%\n",
            "Std_dev:0.0--- Test[3/5][4/5]  Loss(test): 3.98588, BER (test): 0.36547,  Accuracy(test): 30.6876%\n",
            "---------------- Test ---------------\n",
            "Std_dev:0.0------Epoch [3/5] Average loss_test (epoch): 3.90190, Average Accuracy_test (epoch): 31.3487%\n",
            "-----------------------------------------------------------------------------------------\n",
            "Std_dev:0.0------  Train__[4/5][0/5] Loss: 1.63206, BER: 0.17664, Accuracy: 50.3223%\n",
            "Std_dev:0.0------  Train__[4/5][1/5] Loss: 1.59994, BER: 0.17739, Accuracy: 50.6858%\n",
            "Std_dev:0.0------  Train__[4/5][2/5] Loss: 1.62696, BER: 0.18419, Accuracy: 50.4905%\n",
            "Std_dev:0.0------  Train__[4/5][3/5] Loss: 1.41567, BER: 0.17052, Accuracy: 52.3352%\n",
            "Std_dev:0.0------  Train__[4/5][4/5] Loss: 1.42654, BER: 0.16854, Accuracy: 52.1778%\n",
            "--------------- Train ---------------\n",
            "Std_dev:0.0---- Epoch [4/5] Average loss (epoch): 1.54023, Average Accuracy (epoch): 51.2023%\n",
            "-------------------------------------\n",
            "Std_dev:0.0--- Test[4/5][0/5]  Loss(test): 2.83631, BER (test): 0.31954,  Accuracy(test): 39.8779%\n",
            "Std_dev:0.0--- Test[4/5][1/5]  Loss(test): 2.83385, BER (test): 0.31866,  Accuracy(test): 39.9022%\n",
            "Std_dev:0.0--- Test[4/5][2/5]  Loss(test): 2.82168, BER (test): 0.31641,  Accuracy(test): 39.9932%\n",
            "Std_dev:0.0--- Test[4/5][3/5]  Loss(test): 2.89171, BER (test): 0.32387,  Accuracy(test): 39.5005%\n",
            "Std_dev:0.0--- Test[4/5][4/5]  Loss(test): 2.93763, BER (test): 0.32835,  Accuracy(test): 39.0566%\n",
            "---------------- Test ---------------\n",
            "Std_dev:0.0------Epoch [4/5] Average loss_test (epoch): 2.86424, Average Accuracy_test (epoch): 39.6661%\n",
            "-----------------------------------------------------------------------------------------\n",
            "test_loss.item(): 2.9376349449157715\n",
            "best_loss: inf\n",
            "test_accuracy[-1]: 0.39056575298309326\n",
            "best_accuracy: 0\n",
            "---------------------------------------------------------------------------------------\n",
            "\n",
            "std_dev=0.0-------, train_loss= 1.4265 , test_loss= 2.9376, train_accuracy= 52.1778%, test_accuracy= 39.0566%\n",
            "---------------------------------------------------------------------------------------\n",
            "\n",
            "\n",
            "--------------------------------------This shows the std_dev has been changed --------------------------------------\n",
            "\n",
            "Std_dev:0.25------  Train__[0/5][0/5] Loss: 5.29435, BER: 0.85704, Accuracy: 3.5600%\n",
            "Std_dev:0.25------  Train__[0/5][1/5] Loss: 5.27393, BER: 0.85327, Accuracy: 3.8583%\n",
            "Std_dev:0.25------  Train__[0/5][2/5] Loss: 5.25837, BER: 0.85144, Accuracy: 4.0576%\n",
            "Std_dev:0.25------  Train__[0/5][3/5] Loss: 5.26266, BER: 0.85350, Accuracy: 3.9322%\n",
            "Std_dev:0.25------  Train__[0/5][4/5] Loss: 5.23616, BER: 0.85097, Accuracy: 4.2729%\n",
            "--------------- Train ---------------\n",
            "Std_dev:0.25---- Epoch [0/5] Average loss (epoch): 5.26510, Average Accuracy (epoch): 3.9362%\n",
            "-------------------------------------\n",
            "Std_dev:0.25--- Test[0/5][0/5]  Loss(test): 4.92369, BER (test): 0.86703,  Accuracy(test): 5.1899%\n",
            "Std_dev:0.25--- Test[0/5][1/5]  Loss(test): 4.90612, BER (test): 0.86387,  Accuracy(test): 5.4820%\n",
            "Std_dev:0.25--- Test[0/5][2/5]  Loss(test): 4.92027, BER (test): 0.86642,  Accuracy(test): 5.2650%\n",
            "Std_dev:0.25--- Test[0/5][3/5]  Loss(test): 4.93529, BER (test): 0.86871,  Accuracy(test): 4.9687%\n",
            "Std_dev:0.25--- Test[0/5][4/5]  Loss(test): 4.90258, BER (test): 0.86325,  Accuracy(test): 5.5378%\n",
            "---------------- Test ---------------\n",
            "Std_dev:0.25------Epoch [0/5] Average loss_test (epoch): 4.91759, Average Accuracy_test (epoch): 5.2887%\n",
            "-----------------------------------------------------------------------------------------\n",
            "Std_dev:0.25------  Train__[1/5][0/5] Loss: 5.24268, BER: 0.85188, Accuracy: 4.1791%\n",
            "Std_dev:0.25------  Train__[1/5][1/5] Loss: 5.26439, BER: 0.85541, Accuracy: 3.8783%\n",
            "Std_dev:0.25------  Train__[1/5][2/5] Loss: 5.22997, BER: 0.85101, Accuracy: 4.3407%\n",
            "Std_dev:0.25------  Train__[1/5][3/5] Loss: 5.25499, BER: 0.85338, Accuracy: 4.0466%\n",
            "Std_dev:0.25------  Train__[1/5][4/5] Loss: 5.24478, BER: 0.85365, Accuracy: 4.1350%\n",
            "--------------- Train ---------------\n",
            "Std_dev:0.25---- Epoch [1/5] Average loss (epoch): 5.24736, Average Accuracy (epoch): 4.1160%\n",
            "-------------------------------------\n",
            "Std_dev:0.25--- Test[1/5][0/5]  Loss(test): 4.90784, BER (test): 0.86704,  Accuracy(test): 5.3612%\n",
            "Std_dev:0.25--- Test[1/5][1/5]  Loss(test): 4.88679, BER (test): 0.86387,  Accuracy(test): 5.6868%\n",
            "Std_dev:0.25--- Test[1/5][2/5]  Loss(test): 4.90090, BER (test): 0.86642,  Accuracy(test): 5.4698%\n",
            "Std_dev:0.25--- Test[1/5][3/5]  Loss(test): 4.91585, BER (test): 0.86871,  Accuracy(test): 5.1735%\n",
            "Std_dev:0.25--- Test[1/5][4/5]  Loss(test): 4.88593, BER (test): 0.86321,  Accuracy(test): 5.7276%\n",
            "---------------- Test ---------------\n",
            "Std_dev:0.25------Epoch [1/5] Average loss_test (epoch): 4.89946, Average Accuracy_test (epoch): 5.4838%\n",
            "-----------------------------------------------------------------------------------------\n",
            "Std_dev:0.25------  Train__[2/5][0/5] Loss: 5.23308, BER: 0.85124, Accuracy: 4.3296%\n",
            "Std_dev:0.25------  Train__[2/5][1/5] Loss: 5.26750, BER: 0.84876, Accuracy: 4.1729%\n",
            "Std_dev:0.25------  Train__[2/5][2/5] Loss: 5.40996, BER: 0.85435, Accuracy: 2.9883%\n",
            "Std_dev:0.25------  Train__[2/5][3/5] Loss: 5.62775, BER: 0.84776, Accuracy: 1.8735%\n",
            "Std_dev:0.25------  Train__[2/5][4/5] Loss: 5.98122, BER: 0.83965, Accuracy: -0.0511%\n",
            "--------------- Train ---------------\n",
            "Std_dev:0.25---- Epoch [2/5] Average loss (epoch): 5.50390, Average Accuracy (epoch): 2.6627%\n",
            "-------------------------------------\n",
            "Std_dev:0.25--- Test[2/5][0/5]  Loss(test): 4.98225, BER (test): 0.86508,  Accuracy(test): 5.0349%\n",
            "Std_dev:0.25--- Test[2/5][1/5]  Loss(test): 4.98111, BER (test): 0.86151,  Accuracy(test): 5.2206%\n",
            "Std_dev:0.25--- Test[2/5][2/5]  Loss(test): 5.00256, BER (test): 0.86434,  Accuracy(test): 4.9108%\n",
            "Std_dev:0.25--- Test[2/5][3/5]  Loss(test): 4.99358, BER (test): 0.86688,  Accuracy(test): 4.7966%\n",
            "Std_dev:0.25--- Test[2/5][4/5]  Loss(test): 4.97177, BER (test): 0.86101,  Accuracy(test): 5.3182%\n",
            "---------------- Test ---------------\n",
            "Std_dev:0.25------Epoch [2/5] Average loss_test (epoch): 4.98626, Average Accuracy_test (epoch): 5.0562%\n",
            "-----------------------------------------------------------------------------------------\n",
            "Std_dev:0.25------  Train__[3/5][0/5] Loss: 5.97550, BER: 0.83944, Accuracy: 0.1126%\n",
            "Std_dev:0.25------  Train__[3/5][1/5] Loss: 5.92928, BER: 0.83714, Accuracy: 0.5475%\n",
            "Std_dev:0.25------  Train__[3/5][2/5] Loss: 5.94253, BER: 0.83195, Accuracy: 0.7110%\n",
            "Std_dev:0.25------  Train__[3/5][3/5] Loss: 5.73288, BER: 0.84114, Accuracy: 1.5490%\n",
            "Std_dev:0.25------  Train__[3/5][4/5] Loss: 5.66703, BER: 0.84433, Accuracy: 1.8797%\n",
            "--------------- Train ---------------\n",
            "Std_dev:0.25---- Epoch [3/5] Average loss (epoch): 5.84944, Average Accuracy (epoch): 0.9599%\n",
            "-------------------------------------\n",
            "Std_dev:0.25--- Test[3/5][0/5]  Loss(test): 4.88712, BER (test): 0.86652,  Accuracy(test): 5.6916%\n",
            "Std_dev:0.25--- Test[3/5][1/5]  Loss(test): 4.87071, BER (test): 0.86329,  Accuracy(test): 5.9733%\n",
            "Std_dev:0.25--- Test[3/5][2/5]  Loss(test): 4.89414, BER (test): 0.86562,  Accuracy(test): 5.7128%\n",
            "Std_dev:0.25--- Test[3/5][3/5]  Loss(test): 4.89204, BER (test): 0.86835,  Accuracy(test): 5.5022%\n",
            "Std_dev:0.25--- Test[3/5][4/5]  Loss(test): 4.87707, BER (test): 0.86249,  Accuracy(test): 5.9677%\n",
            "---------------- Test ---------------\n",
            "Std_dev:0.25------Epoch [3/5] Average loss_test (epoch): 4.88422, Average Accuracy_test (epoch): 5.7695%\n",
            "-----------------------------------------------------------------------------------------\n",
            "Std_dev:0.25------  Train__[4/5][0/5] Loss: 5.57797, BER: 0.84401, Accuracy: 2.5807%\n",
            "Std_dev:0.25------  Train__[4/5][1/5] Loss: 5.56435, BER: 0.83980, Accuracy: 2.8265%\n",
            "Std_dev:0.25------  Train__[4/5][2/5] Loss: 5.62275, BER: 0.84625, Accuracy: 2.0969%\n",
            "Std_dev:0.25------  Train__[4/5][3/5] Loss: 5.61089, BER: 0.84195, Accuracy: 2.4537%\n",
            "Std_dev:0.25------  Train__[4/5][4/5] Loss: 5.65181, BER: 0.83729, Accuracy: 2.4488%\n",
            "--------------- Train ---------------\n",
            "Std_dev:0.25---- Epoch [4/5] Average loss (epoch): 5.60555, Average Accuracy (epoch): 2.4813%\n",
            "-------------------------------------\n",
            "Std_dev:0.25--- Test[4/5][0/5]  Loss(test): 4.93716, BER (test): 0.86352,  Accuracy(test): 5.5754%\n",
            "Std_dev:0.25--- Test[4/5][1/5]  Loss(test): 4.95087, BER (test): 0.85969,  Accuracy(test): 5.6801%\n",
            "Std_dev:0.25--- Test[4/5][2/5]  Loss(test): 4.94415, BER (test): 0.86274,  Accuracy(test): 5.5683%\n",
            "Std_dev:0.25--- Test[4/5][3/5]  Loss(test): 4.91899, BER (test): 0.86627,  Accuracy(test): 5.4922%\n",
            "Std_dev:0.25--- Test[4/5][4/5]  Loss(test): 4.90419, BER (test): 0.86021,  Accuracy(test): 5.9554%\n",
            "---------------- Test ---------------\n",
            "Std_dev:0.25------Epoch [4/5] Average loss_test (epoch): 4.93107, Average Accuracy_test (epoch): 5.6543%\n",
            "-----------------------------------------------------------------------------------------\n",
            "test_loss.item(): 4.904193878173828\n",
            "best_loss: 2.9376349449157715\n",
            "test_accuracy[-1]: 0.05955415964126587\n",
            "best_accuracy: 0.39056575298309326\n",
            "---------------------------------------------------------------------------------------\n",
            "\n",
            "std_dev=0.25-------, train_loss= 5.6518 , test_loss= 4.9042, train_accuracy= 2.4488%, test_accuracy= 5.9554%\n",
            "---------------------------------------------------------------------------------------\n",
            "\n",
            "\n",
            "--------------------------------------This shows the std_dev has been changed --------------------------------------\n",
            "\n",
            "Std_dev:0.5------  Train__[0/5][0/5] Loss: 8.89022, BER: 0.24782, Accuracy: -20.6553%\n",
            "Std_dev:0.5------  Train__[0/5][1/5] Loss: 8.79708, BER: 0.24515, Accuracy: -19.9578%\n",
            "Std_dev:0.5------  Train__[0/5][2/5] Loss: 8.86207, BER: 0.24796, Accuracy: -20.4477%\n",
            "Std_dev:0.5------  Train__[0/5][3/5] Loss: 8.96601, BER: 0.25214, Accuracy: -21.1312%\n",
            "Std_dev:0.5------  Train__[0/5][4/5] Loss: 8.84287, BER: 0.24716, Accuracy: -20.3258%\n",
            "--------------- Train ---------------\n",
            "Std_dev:0.5---- Epoch [0/5] Average loss (epoch): 8.87165, Average Accuracy (epoch): -20.5036%\n",
            "-------------------------------------\n",
            "Std_dev:0.5--- Test[0/5][0/5]  Loss(test): 7.65662, BER (test): 0.13297,  Accuracy(test): -20.2282%\n",
            "Std_dev:0.5--- Test[0/5][1/5]  Loss(test): 7.70186, BER (test): 0.13613,  Accuracy(test): -20.5203%\n",
            "Std_dev:0.5--- Test[0/5][2/5]  Loss(test): 7.66935, BER (test): 0.13358,  Accuracy(test): -20.3033%\n",
            "Std_dev:0.5--- Test[0/5][3/5]  Loss(test): 7.62065, BER (test): 0.13129,  Accuracy(test): -20.0070%\n",
            "Std_dev:0.5--- Test[0/5][4/5]  Loss(test): 7.71032, BER (test): 0.13675,  Accuracy(test): -20.5760%\n",
            "---------------- Test ---------------\n",
            "Std_dev:0.5------Epoch [0/5] Average loss_test (epoch): 7.67176, Average Accuracy_test (epoch): -20.3270%\n",
            "-----------------------------------------------------------------------------------------\n",
            "Std_dev:0.5------  Train__[1/5][0/5] Loss: 8.84452, BER: 0.24805, Accuracy: -20.2885%\n",
            "Std_dev:0.5------  Train__[1/5][1/5] Loss: 8.83060, BER: 0.24634, Accuracy: -20.1783%\n",
            "Std_dev:0.5------  Train__[1/5][2/5] Loss: 8.81504, BER: 0.24687, Accuracy: -20.0617%\n",
            "Std_dev:0.5------  Train__[1/5][3/5] Loss: 8.88306, BER: 0.24990, Accuracy: -20.5422%\n",
            "Std_dev:0.5------  Train__[1/5][4/5] Loss: 8.81778, BER: 0.24601, Accuracy: -20.0508%\n",
            "--------------- Train ---------------\n",
            "Std_dev:0.5---- Epoch [1/5] Average loss (epoch): 8.83820, Average Accuracy (epoch): -20.2243%\n",
            "-------------------------------------\n",
            "Std_dev:0.5--- Test[1/5][0/5]  Loss(test): 7.63202, BER (test): 0.13297,  Accuracy(test): -20.0233%\n",
            "Std_dev:0.5--- Test[1/5][1/5]  Loss(test): 7.67720, BER (test): 0.13613,  Accuracy(test): -20.3155%\n",
            "Std_dev:0.5--- Test[1/5][2/5]  Loss(test): 7.64474, BER (test): 0.13358,  Accuracy(test): -20.0985%\n",
            "Std_dev:0.5--- Test[1/5][3/5]  Loss(test): 7.59610, BER (test): 0.13129,  Accuracy(test): -19.8022%\n",
            "Std_dev:0.5--- Test[1/5][4/5]  Loss(test): 7.68565, BER (test): 0.13675,  Accuracy(test): -20.3713%\n",
            "---------------- Test ---------------\n",
            "Std_dev:0.5------Epoch [1/5] Average loss_test (epoch): 7.64714, Average Accuracy_test (epoch): -20.1221%\n",
            "-----------------------------------------------------------------------------------------\n",
            "Std_dev:0.5------  Train__[2/5][0/5] Loss: 8.83508, BER: 0.24812, Accuracy: -20.1677%\n",
            "Std_dev:0.5------  Train__[2/5][1/5] Loss: 8.88083, BER: 0.25020, Accuracy: -20.5439%\n",
            "Std_dev:0.5------  Train__[2/5][2/5] Loss: 8.81947, BER: 0.24837, Accuracy: -20.0475%\n",
            "Std_dev:0.5------  Train__[2/5][3/5] Loss: 8.70605, BER: 0.24417, Accuracy: -19.1448%\n",
            "Std_dev:0.5------  Train__[2/5][4/5] Loss: 8.68571, BER: 0.24938, Accuracy: -18.4810%\n",
            "--------------- Train ---------------\n",
            "Std_dev:0.5---- Epoch [2/5] Average loss (epoch): 8.78543, Average Accuracy (epoch): -19.6770%\n",
            "-------------------------------------\n",
            "Std_dev:0.5--- Test[2/5][0/5]  Loss(test): 7.60748, BER (test): 0.13297,  Accuracy(test): -19.8187%\n",
            "Std_dev:0.5--- Test[2/5][1/5]  Loss(test): 7.65096, BER (test): 0.13617,  Accuracy(test): -20.0848%\n",
            "Std_dev:0.5--- Test[2/5][2/5]  Loss(test): 7.62019, BER (test): 0.13358,  Accuracy(test): -19.8938%\n",
            "Std_dev:0.5--- Test[2/5][3/5]  Loss(test): 7.56998, BER (test): 0.13133,  Accuracy(test): -19.5715%\n",
            "Std_dev:0.5--- Test[2/5][4/5]  Loss(test): 7.66104, BER (test): 0.13675,  Accuracy(test): -20.1666%\n",
            "---------------- Test ---------------\n",
            "Std_dev:0.5------Epoch [2/5] Average loss_test (epoch): 7.62193, Average Accuracy_test (epoch): -19.9071%\n",
            "-----------------------------------------------------------------------------------------\n",
            "Std_dev:0.5------  Train__[3/5][0/5] Loss: 8.59754, BER: 0.25238, Accuracy: -17.3576%\n",
            "Std_dev:0.5------  Train__[3/5][1/5] Loss: 8.39130, BER: 0.24917, Accuracy: -15.3099%\n",
            "Std_dev:0.5------  Train__[3/5][2/5] Loss: 8.56311, BER: 0.25534, Accuracy: -16.6275%\n",
            "Std_dev:0.5------  Train__[3/5][3/5] Loss: 8.36831, BER: 0.25080, Accuracy: -14.7654%\n",
            "Std_dev:0.5------  Train__[3/5][4/5] Loss: 8.36751, BER: 0.25039, Accuracy: -14.9430%\n",
            "--------------- Train ---------------\n",
            "Std_dev:0.5---- Epoch [3/5] Average loss (epoch): 8.45756, Average Accuracy (epoch): -15.8007%\n",
            "-------------------------------------\n",
            "Std_dev:0.5--- Test[3/5][0/5]  Loss(test): 7.58193, BER (test): 0.13301,  Accuracy(test): -19.5956%\n",
            "Std_dev:0.5--- Test[3/5][1/5]  Loss(test): 7.62828, BER (test): 0.13613,  Accuracy(test): -19.9082%\n",
            "Std_dev:0.5--- Test[3/5][2/5]  Loss(test): 7.59591, BER (test): 0.13358,  Accuracy(test): -19.6912%\n",
            "Std_dev:0.5--- Test[3/5][3/5]  Loss(test): 7.54739, BER (test): 0.13129,  Accuracy(test): -19.3949%\n",
            "Std_dev:0.5--- Test[3/5][4/5]  Loss(test): 7.63671, BER (test): 0.13675,  Accuracy(test): -19.9640%\n",
            "---------------- Test ---------------\n",
            "Std_dev:0.5------Epoch [3/5] Average loss_test (epoch): 7.59804, Average Accuracy_test (epoch): -19.7108%\n",
            "-----------------------------------------------------------------------------------------\n",
            "Std_dev:0.5------  Train__[4/5][0/5] Loss: 8.45014, BER: 0.25247, Accuracy: -15.8082%\n",
            "Std_dev:0.5------  Train__[4/5][1/5] Loss: 8.44358, BER: 0.24981, Accuracy: -16.0836%\n",
            "Std_dev:0.5------  Train__[4/5][2/5] Loss: 8.51601, BER: 0.24935, Accuracy: -16.8360%\n",
            "Std_dev:0.5------  Train__[4/5][3/5] Loss: 8.52861, BER: 0.25023, Accuracy: -17.0148%\n",
            "Std_dev:0.5------  Train__[4/5][4/5] Loss: 8.66755, BER: 0.25216, Accuracy: -18.2821%\n",
            "--------------- Train ---------------\n",
            "Std_dev:0.5---- Epoch [4/5] Average loss (epoch): 8.52118, Average Accuracy (epoch): -16.8050%\n",
            "-------------------------------------\n",
            "Std_dev:0.5--- Test[4/5][0/5]  Loss(test): 7.55915, BER (test): 0.13297,  Accuracy(test): -19.4147%\n",
            "Std_dev:0.5--- Test[4/5][1/5]  Loss(test): 7.60416, BER (test): 0.13613,  Accuracy(test): -19.7068%\n",
            "Std_dev:0.5--- Test[4/5][2/5]  Loss(test): 7.57183, BER (test): 0.13358,  Accuracy(test): -19.4898%\n",
            "Std_dev:0.5--- Test[4/5][3/5]  Loss(test): 7.52337, BER (test): 0.13129,  Accuracy(test): -19.1936%\n",
            "Std_dev:0.5--- Test[4/5][4/5]  Loss(test): 7.61257, BER (test): 0.13675,  Accuracy(test): -19.7626%\n",
            "---------------- Test ---------------\n",
            "Std_dev:0.5------Epoch [4/5] Average loss_test (epoch): 7.57422, Average Accuracy_test (epoch): -19.5135%\n",
            "-----------------------------------------------------------------------------------------\n",
            "test_loss.item(): 7.612573623657227\n",
            "best_loss: 2.9376349449157715\n",
            "test_accuracy[-1]: -0.197625994682312\n",
            "best_accuracy: 0.39056575298309326\n",
            "---------------------------------------------------------------------------------------\n",
            "\n",
            "std_dev=0.5-------, train_loss= 8.6675 , test_loss= 7.6126, train_accuracy= -18.2821%, test_accuracy= -19.7626%\n",
            "---------------------------------------------------------------------------------------\n",
            "\n",
            "\\\\\\\\\\\\\\\\\\\\\\\\\\\\\\\\\\\\\\\\\\\\\\\\\\\\\\\\\\\\\\\\\\\\\\\\\\\\\\\\\\\\\\\\\\\\\\\\\\\\\\\\\\\\\\\\\\\\\\\\\\\\\\\\\\\\\\\\\\\\\n",
            "\n",
            "Best std_dev: 0.0, Best train_loss: 1.4265, Best test_loss: 2.9376, Best train_accuracy: 52.1778%, Best test_accuracy: 39.0566%\n",
            "\\\\\\\\\\\\\\\\\\\\\\\\\\\\\\\\\\\\\\\\\\\\\\\\\\\\\\\\\\\\\\\\\\\\\\\\\\\\\\\\\\\\\\\\\\\\\\\\\\\\\\\\\\\\\\\\\\\\\\\\\\\\\\\\\\\\\\\\\\\\\n",
            "\n"
          ]
        },
        {
          "output_type": "display_data",
          "data": {
            "text/plain": [
              "<Figure size 1200x600 with 2 Axes>"
            ],
            "image/png": "[encoded data removed]"
          },
          "metadata": {}
        }
      ]
    },
    {
      "cell_type": "code",
      "source": [
        "print(\"Best std_dev: 0.046153846153846156, Best train_loss: 0.5006, Best test_loss: 0.4890, Best train_accuracy: 84.0904%, Best test_accuracy: 85.7873%\")\n",
        "print('std_dev=0.34177215189873417-------, train_loss= 1.3233 , test_loss= 0.4465, train_accuracy= 61.7785%, test_accuracy= 82.8034%')\n",
        "print('std_dev=0.7215189873417721-------, train_loss= 3.6373 , test_loss= 0.4894, train_accuracy= 32.9415%, test_accuracy= 85.8028%')"
      ],
      "metadata": {
        "colab": {
          "base_uri": "https://localhost:8080/"
        },
        "id": "KgbV4HJshdXJ",
        "outputId": "e9824fc3-27a0-43d8-f4d3-6eea4682aff5"
      },
      "execution_count": 23,
      "outputs": [
        {
          "output_type": "stream",
          "name": "stdout",
          "text": [
            "Best std_dev: 0.046153846153846156, Best train_loss: 0.5006, Best test_loss: 0.4890, Best train_accuracy: 84.0904%, Best test_accuracy: 85.7873%\n",
            "std_dev=0.34177215189873417-------, train_loss= 1.3233 , test_loss= 0.4465, train_accuracy= 61.7785%, test_accuracy= 82.8034%\n",
            "std_dev=0.7215189873417721-------, train_loss= 3.6373 , test_loss= 0.4894, train_accuracy= 32.9415%, test_accuracy= 85.8028%\n"
          ]
        }
      ]
    },
    {
      "cell_type": "markdown",
      "source": [
        "### Random Search\n"
      ],
      "metadata": {
        "id": "wSriAjAjWVkP"
      }
    },
    {
      "cell_type": "code",
      "source": [
        "\n",
        "\n",
        "# # /////////////////////////////////////////////////////////////////////////////////////////////////////////////////////////////\n",
        "# import random\n",
        "\n",
        "# # Define the range of std_dev values to explore\n",
        "# stddev_num_intervals = 20  # Adjust the number of intervals as needed\n",
        "\n",
        "# # Define the range of std_dev values to explore\n",
        "# std_dev_range = np.linspace(0, 0.2, stddev_num_intervals)  # Generate values from 0 to 2 with stddev_num_intervals intervals\n",
        "\n",
        "\n",
        "# best_std_dev = None\n",
        "# best_loss = float('inf')\n",
        "# best_accuracy = 0.0\n",
        "\n",
        "# # Number of random search iterations\n",
        "# num_iterations = 10  # Adjust as needed\n",
        "\n",
        "# # # -----------------------------------------------\n",
        "# for i in range(num_iterations):\n",
        "#     # Sample a value for std_dev\n",
        "#     std_dev = np.random.choice(std_dev_range)\n",
        "\n",
        "#     # Update std_dev in your code\n",
        "#     std_dev = std_dev\n",
        "\n",
        "#     # Reset network and optimizer\n",
        "#       #Define Network and optimizer\n",
        "#     net=SAE()\n",
        "#     net = net.to(device)\n",
        "#     optimizer = torch.optim.AdamW(net.parameters(),\n",
        "#                             lr=0.0001,\n",
        "#                             betas=(0.9, 0.999),\n",
        "#                             weight_decay=0.001)\n",
        "\n",
        "#     # Create a folder to save intermediate layers for the current std_dev\n",
        "#     intermediate_layers_dir = f\"Intermediate_Lyrs/std_dev_{std_dev}\"\n",
        "#     os.makedirs(intermediate_layers_dir, exist_ok=True)\n",
        "\n",
        "#     # Run training and testing\n",
        "#     for e in range(epochs):\n",
        "#         train_loss, train_loss_rec, train_accuracy, epoch_loss, epoch_accuracy, out, out_en = train(net, train_loader, optimizer, e)\n",
        "#         train_avg_loss_rec.append(sum(train_loss_rec) / len(train_loader))\n",
        "\n",
        "#         test_loss, test_loss_rec, test_accuracy, epoch_loss_test, epoch_accuracy_test, out, out_en = test(net, test_loader, optimizer, e)\n",
        "#         test_avg_loss_rec.append(sum(test_loss_rec) / (len(test_loader)))\n",
        "\n",
        "#         # Access activations and save them\n",
        "#         epoch_activations[e] = {}\n",
        "#         for i, name in enumerate(hook_names):\n",
        "#             epoch_activations[e][name] = activation.get(name, None)  # Use get to avoid KeyError\n",
        "\n",
        "#         # Save intermediate layers every 10 epochs\n",
        "#         if (e + 1) % 10 == 0:\n",
        "#             # activations_path = Intermediate_Lyrs + f\"activations_epoch_{e + 1}.pkl\"\n",
        "#             activations_path = f\"{intermediate_layers_dir}/activations_epoch_{e + 1}.pkl\"\n",
        "#             with open(activations_path, 'wb') as file:\n",
        "#                 pickle.dump(epoch_activations, file)\n",
        "\n",
        "#     # Evaluate performance with the current std_dev\n",
        "#     avg_test_accuracy = np.mean(test_accuracy)  # Calculate average test accuracy over all epochs\n",
        "#     if test_loss < best_loss and avg_test_accuracy > best_accuracy:\n",
        "#         best_std_dev = std_dev\n",
        "#         best_loss = test_loss\n",
        "#         best_accuracy = avg_test_accuracy\n",
        "\n",
        "#     print(f\"Iteration {i + 1}: std_dev={std_dev}, test_loss={test_loss}, test_accuracy={avg_test_accuracy}\")\n",
        "\n",
        "# print(f\"Best std_dev: {best_std_dev}, Best test_loss: {best_loss}, Best test_accuracy: {best_accuracy}\")\n",
        "\n",
        "\n"
      ],
      "metadata": {
        "id": "1AAzHTqYWM9O"
      },
      "execution_count": 18,
      "outputs": []
    },
    {
      "cell_type": "code",
      "execution_count": 19,
      "metadata": {
        "id": "cUOjPTrBOjmt"
      },
      "outputs": [],
      "source": [
        "# def train_and_evaluate(std_dev):\n",
        "#     # Your training and evaluation code here\n",
        "#     # Run training and testing\n",
        "#     for e in range(epochs):\n",
        "#         train_loss, train_loss_rec, train_accuracy, epoch_loss, epoch_accuracy, out, out_en = train(net, train_loader, optimizer, e, std_dev)\n",
        "#         train_avg_loss_rec.append(sum(train_loss_rec) / len(train_loader))\n",
        "\n",
        "#         test_loss, test_loss_rec, test_accuracy, epoch_loss_test, epoch_accuracy_test, out, out_en = test(net, test_loader, optimizer, e, std_dev)\n",
        "#         test_avg_loss_rec.append(sum(test_loss_rec) / (len(test_loader)))\n",
        "\n",
        "#         # Intermediate Layers\n",
        "#         # Check if the current epoch is a multiple of 10\n",
        "#         if (e + 1) % 10 == 0:\n",
        "#             # Save the epoch_activations dictionary to a file\n",
        "#             activations_path = Intermediate_Lyrs +  f\"activations_epoch_{e + 1}.pkl\"\n",
        "#             with open(activations_path, 'wb') as file:\n",
        "#                 pickle.dump(epoch_activations, file)\n",
        "\n",
        "#         # Capture activations for the current epoch\n",
        "#         epoch_activations[e] = {}\n",
        "#         for i, name in enumerate(hook_names):\n",
        "#             epoch_activations[e][name] = activation.get(name, None)  # Use get to avoid KeyError\n",
        "\n",
        "\n",
        "#     # Update the std_dev parameter with the value provided by Bayesian Optimization\n",
        "#     std_dev = std_dev\n",
        "\n",
        "#     # Run training and testing with the updated std_dev\n",
        "#     # Call the train and test functions with the updated std_dev\n",
        "#     train_loss, train_loss_rec, train_accuracy, epoch_loss, epoch_accuracy, out, out_en = train(net, train_loader, optimizer, e, std_dev)\n",
        "#     test_loss, test_loss_rec, test_accuracy, epoch_loss_test, epoch_accuracy_test, out, out_en = test(net, test_loader, optimizer, e, std_dev)\n",
        "#     return test_accuracy  # Return the evaluation metric you want to optimize (e.g., accuracy)\n",
        "\n",
        "# # Define the bounds for std_dev\n",
        "# pbounds = {'std_dev': (0.0, 0.2)}  # Adjust the bounds as needed\n",
        "\n",
        "# # Create the Bayesian Optimization object\n",
        "# optimizer = BayesianOptimization(\n",
        "#     f=train_and_evaluate,\n",
        "#     pbounds=pbounds,\n",
        "#     verbose=2,  # Adjust verbosity as needed\n",
        "#     random_state=42,  # Set a random seed for reproducibility\n",
        "# )\n",
        "\n",
        "# # Run optimization\n",
        "# optimizer.maximize(\n",
        "#     init_points=5,  # Number of random initialization points\n",
        "#     n_iter=10,  # Number of optimization iterations\n",
        "# )\n",
        "\n",
        "# # Retrieve the optimal value for std_dev and the corresponding test accuracy\n",
        "# optimal_std_dev = optimizer.max['params']['std_dev']\n",
        "# optimal_test_accuracy = optimizer.max['target']\n",
        "\n",
        "# print(\"Optimal std_dev:\", optimal_std_dev)\n",
        "# print(\"Corresponding test accuracy:\", optimal_test_accuracy)\n",
        "\n",
        "\n",
        "\n"
      ]
    },
    {
      "cell_type": "markdown",
      "source": [
        "### Basic original"
      ],
      "metadata": {
        "id": "LkVvXi7UqXOz"
      }
    },
    {
      "cell_type": "code",
      "source": [
        "# std_dev = 0.5\n",
        "# # Run training and testing\n",
        "# for e in range(epochs):\n",
        "#     train_loss, train_loss_rec, train_accuracy, epoch_loss, epoch_accuracy, out, out_en = train(net, train_loader, optimizer, e, std_dev)\n",
        "#     train_avg_loss_rec.append(sum(train_loss_rec) / len(train_loader))\n",
        "\n",
        "#     test_loss, test_loss_rec, test_accuracy, epoch_loss_test, epoch_accuracy_test, out, out_en = test(net, test_loader, optimizer, e, std_dev)\n",
        "#     test_avg_loss_rec.append(sum(test_loss_rec) / (len(test_loader)))\n",
        "\n",
        "#     # # #---------------------------------------------------------- Access the out_en tensor\n",
        "#     out_en = net.out_en\n",
        "#     out_en_numpy = out_en.cpu().detach().numpy()\n",
        "#     # Save with a different name for each epoch\n",
        "#     out_en_filename = Output_Spikes + f\"out_en_epoch_{e + 1}.npy\"\n",
        "#     np.save(out_en_filename, out_en_numpy)\n",
        "\n",
        "\n",
        "\n",
        "#     # #-----------------------------------------------------------Access the out tensor\n",
        "#     out = net.out\n",
        "#     out_numpy = out.cpu().detach().numpy()\n",
        "#     # Save with a different name for each epoch\n",
        "#     out_filename = Output_Spikes + f\"out_epoch_{e + 1}.npy\"\n",
        "#     np.save(out_filename, out_numpy)\n",
        "#     # -------------------------------------------------------------------- Intermediate Layers\n",
        "# # Check if the current epoch is a multiple of 10\n",
        "#     if (e + 1) % 10 == 0:\n",
        "#         # Save the epoch_activations dictionary to a file\n",
        "#         activations_path = Intermediate_Lyrs +  f\"activations_epoch_{e + 1}.pkl\"\n",
        "#         with open(activations_path, 'wb') as file:\n",
        "#             pickle.dump(epoch_activations, file)\n",
        "#     # Capture activations for the current epoch\n",
        "#     epoch_activations[e] = {}\n",
        "#     for i, name in enumerate(hook_names):\n",
        "#         epoch_activations[e][name] = activation.get(name, None)  # Use get to avoid KeyError\n",
        "\n",
        "\n",
        "\n",
        "\n",
        "\n",
        "\n",
        "# # # beta_syn=0.0001\n"
      ],
      "metadata": {
        "id": "kIHnS02IKMnM"
      },
      "execution_count": 20,
      "outputs": []
    },
    {
      "cell_type": "code",
      "source": [],
      "metadata": {
        "id": "T59KWofRpi2G"
      },
      "execution_count": 20,
      "outputs": []
    }
  ]
}